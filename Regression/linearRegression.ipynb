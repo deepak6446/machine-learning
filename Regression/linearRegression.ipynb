{
 "cells": [
  {
   "cell_type": "code",
   "execution_count": 1,
   "metadata": {},
   "outputs": [
    {
     "name": "stderr",
     "output_type": "stream",
     "text": [
      "/home/gis-local/anaconda3/lib/python3.6/site-packages/sklearn/cross_validation.py:41: DeprecationWarning: This module was deprecated in version 0.18 in favor of the model_selection module into which all the refactored classes and functions are moved. Also note that the interface of the new CV iterators are different from that of this module. This module will be removed in 0.20.\n",
      "  \"This module will be removed in 0.20.\", DeprecationWarning)\n"
     ]
    }
   ],
   "source": [
    "import pandas as pd\n",
    "import numpy as np\n",
    "import matplotlib.pyplot as plt\n",
    "from sklearn.linear_model import LinearRegression\n",
    "from sklearn.cross_validation import train_test_split"
   ]
  },
  {
   "cell_type": "code",
   "execution_count": 2,
   "metadata": {},
   "outputs": [
    {
     "data": {
      "text/plain": [
       "(3165, 21)"
      ]
     },
     "execution_count": 2,
     "metadata": {},
     "output_type": "execute_result"
    }
   ],
   "source": [
    "data = pd.read_csv('./kc_house_data.csv')\n",
    "data.shape"
   ]
  },
  {
   "cell_type": "code",
   "execution_count": 3,
   "metadata": {},
   "outputs": [
    {
     "data": {
      "text/html": [
       "<div>\n",
       "<style scoped>\n",
       "    .dataframe tbody tr th:only-of-type {\n",
       "        vertical-align: middle;\n",
       "    }\n",
       "\n",
       "    .dataframe tbody tr th {\n",
       "        vertical-align: top;\n",
       "    }\n",
       "\n",
       "    .dataframe thead th {\n",
       "        text-align: right;\n",
       "    }\n",
       "</style>\n",
       "<table border=\"1\" class=\"dataframe\">\n",
       "  <thead>\n",
       "    <tr style=\"text-align: right;\">\n",
       "      <th></th>\n",
       "      <th>id</th>\n",
       "      <th>date</th>\n",
       "      <th>price</th>\n",
       "      <th>bedrooms</th>\n",
       "      <th>bathrooms</th>\n",
       "      <th>sqft_living</th>\n",
       "      <th>sqft_lot</th>\n",
       "      <th>floors</th>\n",
       "      <th>waterfront</th>\n",
       "      <th>view</th>\n",
       "      <th>...</th>\n",
       "      <th>grade</th>\n",
       "      <th>sqft_above</th>\n",
       "      <th>sqft_basement</th>\n",
       "      <th>yr_built</th>\n",
       "      <th>yr_renovated</th>\n",
       "      <th>zipcode</th>\n",
       "      <th>lat</th>\n",
       "      <th>long</th>\n",
       "      <th>sqft_living15</th>\n",
       "      <th>sqft_lot15</th>\n",
       "    </tr>\n",
       "  </thead>\n",
       "  <tbody>\n",
       "    <tr>\n",
       "      <th>0</th>\n",
       "      <td>7129300520</td>\n",
       "      <td>20141013T000000</td>\n",
       "      <td>221900.0</td>\n",
       "      <td>3</td>\n",
       "      <td>1.00</td>\n",
       "      <td>1180</td>\n",
       "      <td>5650</td>\n",
       "      <td>1.0</td>\n",
       "      <td>0</td>\n",
       "      <td>0</td>\n",
       "      <td>...</td>\n",
       "      <td>7</td>\n",
       "      <td>1180</td>\n",
       "      <td>0</td>\n",
       "      <td>1955</td>\n",
       "      <td>0</td>\n",
       "      <td>98178</td>\n",
       "      <td>47.5112</td>\n",
       "      <td>-122.257</td>\n",
       "      <td>1340.0</td>\n",
       "      <td>5650.0</td>\n",
       "    </tr>\n",
       "    <tr>\n",
       "      <th>1</th>\n",
       "      <td>6414100192</td>\n",
       "      <td>20141209T000000</td>\n",
       "      <td>538000.0</td>\n",
       "      <td>3</td>\n",
       "      <td>2.25</td>\n",
       "      <td>2570</td>\n",
       "      <td>7242</td>\n",
       "      <td>2.0</td>\n",
       "      <td>0</td>\n",
       "      <td>0</td>\n",
       "      <td>...</td>\n",
       "      <td>7</td>\n",
       "      <td>2170</td>\n",
       "      <td>400</td>\n",
       "      <td>1951</td>\n",
       "      <td>1991</td>\n",
       "      <td>98125</td>\n",
       "      <td>47.7210</td>\n",
       "      <td>-122.319</td>\n",
       "      <td>1690.0</td>\n",
       "      <td>7639.0</td>\n",
       "    </tr>\n",
       "    <tr>\n",
       "      <th>2</th>\n",
       "      <td>5631500400</td>\n",
       "      <td>20150225T000000</td>\n",
       "      <td>180000.0</td>\n",
       "      <td>2</td>\n",
       "      <td>1.00</td>\n",
       "      <td>770</td>\n",
       "      <td>10000</td>\n",
       "      <td>1.0</td>\n",
       "      <td>0</td>\n",
       "      <td>0</td>\n",
       "      <td>...</td>\n",
       "      <td>6</td>\n",
       "      <td>770</td>\n",
       "      <td>0</td>\n",
       "      <td>1933</td>\n",
       "      <td>0</td>\n",
       "      <td>98028</td>\n",
       "      <td>47.7379</td>\n",
       "      <td>-122.233</td>\n",
       "      <td>2720.0</td>\n",
       "      <td>8062.0</td>\n",
       "    </tr>\n",
       "    <tr>\n",
       "      <th>3</th>\n",
       "      <td>2487200875</td>\n",
       "      <td>20141209T000000</td>\n",
       "      <td>604000.0</td>\n",
       "      <td>4</td>\n",
       "      <td>3.00</td>\n",
       "      <td>1960</td>\n",
       "      <td>5000</td>\n",
       "      <td>1.0</td>\n",
       "      <td>0</td>\n",
       "      <td>0</td>\n",
       "      <td>...</td>\n",
       "      <td>7</td>\n",
       "      <td>1050</td>\n",
       "      <td>910</td>\n",
       "      <td>1965</td>\n",
       "      <td>0</td>\n",
       "      <td>98136</td>\n",
       "      <td>47.5208</td>\n",
       "      <td>-122.393</td>\n",
       "      <td>1360.0</td>\n",
       "      <td>5000.0</td>\n",
       "    </tr>\n",
       "    <tr>\n",
       "      <th>4</th>\n",
       "      <td>1954400510</td>\n",
       "      <td>20150218T000000</td>\n",
       "      <td>510000.0</td>\n",
       "      <td>3</td>\n",
       "      <td>2.00</td>\n",
       "      <td>1680</td>\n",
       "      <td>8080</td>\n",
       "      <td>1.0</td>\n",
       "      <td>0</td>\n",
       "      <td>0</td>\n",
       "      <td>...</td>\n",
       "      <td>8</td>\n",
       "      <td>1680</td>\n",
       "      <td>0</td>\n",
       "      <td>1987</td>\n",
       "      <td>0</td>\n",
       "      <td>98074</td>\n",
       "      <td>47.6168</td>\n",
       "      <td>-122.045</td>\n",
       "      <td>1800.0</td>\n",
       "      <td>7503.0</td>\n",
       "    </tr>\n",
       "  </tbody>\n",
       "</table>\n",
       "<p>5 rows × 21 columns</p>\n",
       "</div>"
      ],
      "text/plain": [
       "           id             date     price  bedrooms  bathrooms  sqft_living  \\\n",
       "0  7129300520  20141013T000000  221900.0         3       1.00         1180   \n",
       "1  6414100192  20141209T000000  538000.0         3       2.25         2570   \n",
       "2  5631500400  20150225T000000  180000.0         2       1.00          770   \n",
       "3  2487200875  20141209T000000  604000.0         4       3.00         1960   \n",
       "4  1954400510  20150218T000000  510000.0         3       2.00         1680   \n",
       "\n",
       "   sqft_lot  floors  waterfront  view     ...      grade  sqft_above  \\\n",
       "0      5650     1.0           0     0     ...          7        1180   \n",
       "1      7242     2.0           0     0     ...          7        2170   \n",
       "2     10000     1.0           0     0     ...          6         770   \n",
       "3      5000     1.0           0     0     ...          7        1050   \n",
       "4      8080     1.0           0     0     ...          8        1680   \n",
       "\n",
       "   sqft_basement  yr_built  yr_renovated  zipcode      lat     long  \\\n",
       "0              0      1955             0    98178  47.5112 -122.257   \n",
       "1            400      1951          1991    98125  47.7210 -122.319   \n",
       "2              0      1933             0    98028  47.7379 -122.233   \n",
       "3            910      1965             0    98136  47.5208 -122.393   \n",
       "4              0      1987             0    98074  47.6168 -122.045   \n",
       "\n",
       "   sqft_living15  sqft_lot15  \n",
       "0         1340.0      5650.0  \n",
       "1         1690.0      7639.0  \n",
       "2         2720.0      8062.0  \n",
       "3         1360.0      5000.0  \n",
       "4         1800.0      7503.0  \n",
       "\n",
       "[5 rows x 21 columns]"
      ]
     },
     "execution_count": 3,
     "metadata": {},
     "output_type": "execute_result"
    }
   ],
   "source": [
    "data.head()"
   ]
  },
  {
   "cell_type": "code",
   "execution_count": 4,
   "metadata": {},
   "outputs": [
    {
     "name": "stdout",
     "output_type": "stream",
     "text": [
      "[98178 98125 98028 98136 98074 98053 98003 98198 98146 98038 98007 98115\n",
      " 98107 98126 98019 98103 98002 98133 98040 98092 98030 98119 98112 98052\n",
      " 98027 98117 98058 98001 98056 98166 98023 98070 98148 98105 98042 98008\n",
      " 98059 98122 98144 98004 98005 98034 98075 98116 98010 98118 98199 98032\n",
      " 98045 98102 98077 98108 98168 98177 98065 98029 98006 98109 98022 98033\n",
      " 98155 98024 98011 98031 98106 98072 98188 98014 98055 98039]\n"
     ]
    }
   ],
   "source": [
    "# Remove the fields from the data set that we don't want to include in our model\n",
    "# Having too many variables could potentially cause your model to become less accurate\n",
    "print(data['zipcode'].unique())\n",
    "del data['id']\n",
    "del data['date']\n",
    "del data['zipcode']\n",
    "# del data['lat']\n",
    "# del data['long']\n",
    "del data['sqft_living15']\n",
    "del data['sqft_lot15']"
   ]
  },
  {
   "cell_type": "code",
   "execution_count": 5,
   "metadata": {},
   "outputs": [
    {
     "data": {
      "text/html": [
       "<div>\n",
       "<style scoped>\n",
       "    .dataframe tbody tr th:only-of-type {\n",
       "        vertical-align: middle;\n",
       "    }\n",
       "\n",
       "    .dataframe tbody tr th {\n",
       "        vertical-align: top;\n",
       "    }\n",
       "\n",
       "    .dataframe thead th {\n",
       "        text-align: right;\n",
       "    }\n",
       "</style>\n",
       "<table border=\"1\" class=\"dataframe\">\n",
       "  <thead>\n",
       "    <tr style=\"text-align: right;\">\n",
       "      <th></th>\n",
       "      <th>price</th>\n",
       "      <th>bedrooms</th>\n",
       "      <th>bathrooms</th>\n",
       "      <th>sqft_living</th>\n",
       "      <th>sqft_lot</th>\n",
       "      <th>floors</th>\n",
       "      <th>waterfront</th>\n",
       "      <th>view</th>\n",
       "      <th>condition</th>\n",
       "      <th>grade</th>\n",
       "      <th>sqft_above</th>\n",
       "      <th>sqft_basement</th>\n",
       "      <th>yr_built</th>\n",
       "      <th>yr_renovated</th>\n",
       "      <th>lat</th>\n",
       "      <th>long</th>\n",
       "    </tr>\n",
       "  </thead>\n",
       "  <tbody>\n",
       "    <tr>\n",
       "      <th>count</th>\n",
       "      <td>3.165000e+03</td>\n",
       "      <td>3165.000000</td>\n",
       "      <td>3165.000000</td>\n",
       "      <td>3165.000000</td>\n",
       "      <td>3.165000e+03</td>\n",
       "      <td>3165.000000</td>\n",
       "      <td>3165.000000</td>\n",
       "      <td>3165.000000</td>\n",
       "      <td>3165.000000</td>\n",
       "      <td>3165.000000</td>\n",
       "      <td>3165.000000</td>\n",
       "      <td>3165.000000</td>\n",
       "      <td>3165.000000</td>\n",
       "      <td>3165.000000</td>\n",
       "      <td>3165.000000</td>\n",
       "      <td>3165.000000</td>\n",
       "    </tr>\n",
       "    <tr>\n",
       "      <th>mean</th>\n",
       "      <td>5.354183e+05</td>\n",
       "      <td>3.381359</td>\n",
       "      <td>2.071564</td>\n",
       "      <td>2070.030964</td>\n",
       "      <td>1.524746e+04</td>\n",
       "      <td>1.434755</td>\n",
       "      <td>0.009795</td>\n",
       "      <td>0.244234</td>\n",
       "      <td>3.459084</td>\n",
       "      <td>7.615482</td>\n",
       "      <td>1761.024329</td>\n",
       "      <td>309.006635</td>\n",
       "      <td>1967.480885</td>\n",
       "      <td>94.638863</td>\n",
       "      <td>47.557908</td>\n",
       "      <td>-122.212364</td>\n",
       "    </tr>\n",
       "    <tr>\n",
       "      <th>std</th>\n",
       "      <td>3.808415e+05</td>\n",
       "      <td>0.895398</td>\n",
       "      <td>0.768327</td>\n",
       "      <td>920.106459</td>\n",
       "      <td>4.253820e+04</td>\n",
       "      <td>0.507771</td>\n",
       "      <td>0.098498</td>\n",
       "      <td>0.776188</td>\n",
       "      <td>0.682533</td>\n",
       "      <td>1.166191</td>\n",
       "      <td>815.906643</td>\n",
       "      <td>459.089397</td>\n",
       "      <td>28.094781</td>\n",
       "      <td>424.375685</td>\n",
       "      <td>0.140785</td>\n",
       "      <td>0.139564</td>\n",
       "    </tr>\n",
       "    <tr>\n",
       "      <th>min</th>\n",
       "      <td>7.500000e+04</td>\n",
       "      <td>0.000000</td>\n",
       "      <td>0.000000</td>\n",
       "      <td>380.000000</td>\n",
       "      <td>6.490000e+02</td>\n",
       "      <td>1.000000</td>\n",
       "      <td>0.000000</td>\n",
       "      <td>0.000000</td>\n",
       "      <td>1.000000</td>\n",
       "      <td>3.000000</td>\n",
       "      <td>380.000000</td>\n",
       "      <td>0.000000</td>\n",
       "      <td>1900.000000</td>\n",
       "      <td>0.000000</td>\n",
       "      <td>47.177500</td>\n",
       "      <td>-122.514000</td>\n",
       "    </tr>\n",
       "    <tr>\n",
       "      <th>25%</th>\n",
       "      <td>3.150000e+05</td>\n",
       "      <td>3.000000</td>\n",
       "      <td>1.500000</td>\n",
       "      <td>1430.000000</td>\n",
       "      <td>5.455000e+03</td>\n",
       "      <td>1.000000</td>\n",
       "      <td>0.000000</td>\n",
       "      <td>0.000000</td>\n",
       "      <td>3.000000</td>\n",
       "      <td>7.000000</td>\n",
       "      <td>1190.000000</td>\n",
       "      <td>0.000000</td>\n",
       "      <td>1950.000000</td>\n",
       "      <td>0.000000</td>\n",
       "      <td>47.459800</td>\n",
       "      <td>-122.324000</td>\n",
       "    </tr>\n",
       "    <tr>\n",
       "      <th>50%</th>\n",
       "      <td>4.450000e+05</td>\n",
       "      <td>3.000000</td>\n",
       "      <td>2.000000</td>\n",
       "      <td>1910.000000</td>\n",
       "      <td>8.000000e+03</td>\n",
       "      <td>1.000000</td>\n",
       "      <td>0.000000</td>\n",
       "      <td>0.000000</td>\n",
       "      <td>3.000000</td>\n",
       "      <td>7.000000</td>\n",
       "      <td>1540.000000</td>\n",
       "      <td>0.000000</td>\n",
       "      <td>1969.000000</td>\n",
       "      <td>0.000000</td>\n",
       "      <td>47.572600</td>\n",
       "      <td>-122.226000</td>\n",
       "    </tr>\n",
       "    <tr>\n",
       "      <th>75%</th>\n",
       "      <td>6.400000e+05</td>\n",
       "      <td>4.000000</td>\n",
       "      <td>2.500000</td>\n",
       "      <td>2500.000000</td>\n",
       "      <td>1.122000e+04</td>\n",
       "      <td>2.000000</td>\n",
       "      <td>0.000000</td>\n",
       "      <td>0.000000</td>\n",
       "      <td>4.000000</td>\n",
       "      <td>8.000000</td>\n",
       "      <td>2150.000000</td>\n",
       "      <td>600.000000</td>\n",
       "      <td>1990.000000</td>\n",
       "      <td>0.000000</td>\n",
       "      <td>47.680400</td>\n",
       "      <td>-122.124000</td>\n",
       "    </tr>\n",
       "    <tr>\n",
       "      <th>max</th>\n",
       "      <td>5.350000e+06</td>\n",
       "      <td>8.000000</td>\n",
       "      <td>6.000000</td>\n",
       "      <td>8010.000000</td>\n",
       "      <td>1.651359e+06</td>\n",
       "      <td>3.500000</td>\n",
       "      <td>1.000000</td>\n",
       "      <td>4.000000</td>\n",
       "      <td>5.000000</td>\n",
       "      <td>12.000000</td>\n",
       "      <td>6720.000000</td>\n",
       "      <td>2620.000000</td>\n",
       "      <td>2015.000000</td>\n",
       "      <td>2015.000000</td>\n",
       "      <td>47.777600</td>\n",
       "      <td>-121.315000</td>\n",
       "    </tr>\n",
       "  </tbody>\n",
       "</table>\n",
       "</div>"
      ],
      "text/plain": [
       "              price     bedrooms    bathrooms  sqft_living      sqft_lot  \\\n",
       "count  3.165000e+03  3165.000000  3165.000000  3165.000000  3.165000e+03   \n",
       "mean   5.354183e+05     3.381359     2.071564  2070.030964  1.524746e+04   \n",
       "std    3.808415e+05     0.895398     0.768327   920.106459  4.253820e+04   \n",
       "min    7.500000e+04     0.000000     0.000000   380.000000  6.490000e+02   \n",
       "25%    3.150000e+05     3.000000     1.500000  1430.000000  5.455000e+03   \n",
       "50%    4.450000e+05     3.000000     2.000000  1910.000000  8.000000e+03   \n",
       "75%    6.400000e+05     4.000000     2.500000  2500.000000  1.122000e+04   \n",
       "max    5.350000e+06     8.000000     6.000000  8010.000000  1.651359e+06   \n",
       "\n",
       "            floors   waterfront         view    condition        grade  \\\n",
       "count  3165.000000  3165.000000  3165.000000  3165.000000  3165.000000   \n",
       "mean      1.434755     0.009795     0.244234     3.459084     7.615482   \n",
       "std       0.507771     0.098498     0.776188     0.682533     1.166191   \n",
       "min       1.000000     0.000000     0.000000     1.000000     3.000000   \n",
       "25%       1.000000     0.000000     0.000000     3.000000     7.000000   \n",
       "50%       1.000000     0.000000     0.000000     3.000000     7.000000   \n",
       "75%       2.000000     0.000000     0.000000     4.000000     8.000000   \n",
       "max       3.500000     1.000000     4.000000     5.000000    12.000000   \n",
       "\n",
       "        sqft_above  sqft_basement     yr_built  yr_renovated          lat  \\\n",
       "count  3165.000000    3165.000000  3165.000000   3165.000000  3165.000000   \n",
       "mean   1761.024329     309.006635  1967.480885     94.638863    47.557908   \n",
       "std     815.906643     459.089397    28.094781    424.375685     0.140785   \n",
       "min     380.000000       0.000000  1900.000000      0.000000    47.177500   \n",
       "25%    1190.000000       0.000000  1950.000000      0.000000    47.459800   \n",
       "50%    1540.000000       0.000000  1969.000000      0.000000    47.572600   \n",
       "75%    2150.000000     600.000000  1990.000000      0.000000    47.680400   \n",
       "max    6720.000000    2620.000000  2015.000000   2015.000000    47.777600   \n",
       "\n",
       "              long  \n",
       "count  3165.000000  \n",
       "mean   -122.212364  \n",
       "std       0.139564  \n",
       "min    -122.514000  \n",
       "25%    -122.324000  \n",
       "50%    -122.226000  \n",
       "75%    -122.124000  \n",
       "max    -121.315000  "
      ]
     },
     "execution_count": 5,
     "metadata": {},
     "output_type": "execute_result"
    }
   ],
   "source": [
    "# we can see that the dataset is highly distributed.\n",
    "data.describe()"
   ]
  },
  {
   "cell_type": "code",
   "execution_count": 6,
   "metadata": {},
   "outputs": [
    {
     "name": "stdout",
     "output_type": "stream",
     "text": [
      "<class 'pandas.core.frame.DataFrame'>\n",
      "RangeIndex: 3165 entries, 0 to 3164\n",
      "Data columns (total 16 columns):\n",
      "price            3165 non-null float64\n",
      "bedrooms         3165 non-null float64\n",
      "bathrooms        3165 non-null float64\n",
      "sqft_living      3165 non-null float64\n",
      "sqft_lot         3165 non-null float64\n",
      "floors           3165 non-null float64\n",
      "waterfront       3165 non-null float64\n",
      "view             3165 non-null float64\n",
      "condition        3165 non-null float64\n",
      "grade            3165 non-null float64\n",
      "sqft_above       3165 non-null float64\n",
      "sqft_basement    3165 non-null float64\n",
      "yr_built         3165 non-null float64\n",
      "yr_renovated     3165 non-null float64\n",
      "lat              3165 non-null float64\n",
      "long             3165 non-null float64\n",
      "dtypes: float64(16)\n",
      "memory usage: 395.7 KB\n"
     ]
    }
   ],
   "source": [
    "data = data.astype(float)\n",
    "data.info()"
   ]
  },
  {
   "cell_type": "code",
   "execution_count": 7,
   "metadata": {},
   "outputs": [
    {
     "name": "stdout",
     "output_type": "stream",
     "text": [
      "null values:  False\n"
     ]
    }
   ],
   "source": [
    "print(\"null values: \", data.isnull().values.any())\n",
    "y = data[\"price\"]\n",
    "data = data.drop(['price'], axis=1)"
   ]
  },
  {
   "cell_type": "code",
   "execution_count": 8,
   "metadata": {},
   "outputs": [
    {
     "name": "stdout",
     "output_type": "stream",
     "text": [
      "[3. 2. 4. 5. 1. 6. 7. 0. 8.]\n"
     ]
    },
    {
     "data": {
      "image/png": "[encoded data removed]",
      "text/plain": [
       "<Figure size 432x288 with 1 Axes>"
      ]
     },
     "metadata": {},
     "output_type": "display_data"
    }
   ],
   "source": [
    "# using this data we can see 3 bedroom flats has higher number of chances of being sold.\n",
    "print(data[\"bedrooms\"].unique())\n",
    "data[\"bedrooms\"].value_counts().plot(kind=\"bar\")\n",
    "plt.title(\"num bedroom vs selling count\")\n",
    "plt.xlabel(\"bedroom\")\n",
    "plt.ylabel(\"count\")\n",
    "plt.show()"
   ]
  },
  {
   "cell_type": "code",
   "execution_count": 9,
   "metadata": {},
   "outputs": [
    {
     "data": {
      "text/plain": [
       "Text(0.5,1,'price vs batrooms')"
      ]
     },
     "execution_count": 9,
     "metadata": {},
     "output_type": "execute_result"
    },
    {
     "data": {
      "image/png": "[encoded data removed]",
      "text/plain": [
       "<Figure size 432x288 with 1 Axes>"
      ]
     },
     "metadata": {},
     "output_type": "display_data"
    }
   ],
   "source": [
    "plt.scatter(data.bathrooms, y)\n",
    "plt.xlabel(\"bathroom\")\n",
    "plt.ylabel(\"price\")\n",
    "plt.title(\"price vs batrooms\")"
   ]
  },
  {
   "cell_type": "code",
   "execution_count": 10,
   "metadata": {},
   "outputs": [
    {
     "data": {
      "text/plain": [
       "Text(0.5,1,'price vs sqft_living')"
      ]
     },
     "execution_count": 10,
     "metadata": {},
     "output_type": "execute_result"
    },
    {
     "data": {
      "image/png": "[encoded data removed]",
      "text/plain": [
       "<Figure size 432x288 with 1 Axes>"
      ]
     },
     "metadata": {},
     "output_type": "display_data"
    }
   ],
   "source": [
    "# we can see that the points are from 300 sq to 5000 sq are mostly sold\n",
    "plt.scatter(data.sqft_living, y)\n",
    "plt.xlabel(\"living room in sqft\")\n",
    "plt.ylabel(\"price\")\n",
    "plt.title(\"price vs sqft_living\")"
   ]
  },
  {
   "cell_type": "code",
   "execution_count": 11,
   "metadata": {},
   "outputs": [
    {
     "data": {
      "text/plain": [
       "Text(0.5,1,'price vs sqft_lot')"
      ]
     },
     "execution_count": 11,
     "metadata": {},
     "output_type": "execute_result"
    },
    {
     "data": {
      "image/png": "[encoded data removed]",
      "text/plain": [
       "<Figure size 432x288 with 1 Axes>"
      ]
     },
     "metadata": {},
     "output_type": "display_data"
    }
   ],
   "source": [
    "# total are in sqft\n",
    "# we can see that a data with a higher sqft_lot has been sold for less amount and even houses with less area are sold\n",
    "# for high values, may be there are other reasons for that.\n",
    "plt.scatter(data.sqft_lot, y)\n",
    "plt.xlabel(\"total are in sqft\")\n",
    "plt.ylabel(\"price\")\n",
    "plt.title(\"price vs sqft_lot\")"
   ]
  },
  {
   "cell_type": "code",
   "execution_count": 12,
   "metadata": {},
   "outputs": [
    {
     "data": {
      "text/plain": [
       "Text(0.5,1,'price vs floor')"
      ]
     },
     "execution_count": 12,
     "metadata": {},
     "output_type": "execute_result"
    },
    {
     "data": {
      "image/png": "[encoded data removed]",
      "text/plain": [
       "<Figure size 432x288 with 1 Axes>"
      ]
     },
     "metadata": {},
     "output_type": "display_data"
    }
   ],
   "source": [
    "# price of floor also effect the price\n",
    "plt.scatter(data.floors, y)\n",
    "plt.xlabel(\"floor\")\n",
    "plt.ylabel(\"price\")\n",
    "plt.title(\"price vs floor\")"
   ]
  },
  {
   "cell_type": "code",
   "execution_count": 13,
   "metadata": {},
   "outputs": [
    {
     "data": {
      "text/plain": [
       "Text(0.5,1,'price vs view')"
      ]
     },
     "execution_count": 13,
     "metadata": {},
     "output_type": "execute_result"
    },
    {
     "data": {
      "image/png": "[encoded data removed]",
      "text/plain": [
       "<Figure size 432x288 with 1 Axes>"
      ]
     },
     "metadata": {},
     "output_type": "display_data"
    }
   ],
   "source": [
    "plt.scatter(data.view, y)\n",
    "plt.xlabel(\"view\")\n",
    "plt.ylabel(\"price\")\n",
    "plt.title(\"price vs view\")"
   ]
  },
  {
   "cell_type": "code",
   "execution_count": 14,
   "metadata": {},
   "outputs": [
    {
     "data": {
      "text/plain": [
       "array([3., 5., 4., 1., 2.])"
      ]
     },
     "execution_count": 14,
     "metadata": {},
     "output_type": "execute_result"
    }
   ],
   "source": [
    "data[\"condition\"].unique()"
   ]
  },
  {
   "cell_type": "code",
   "execution_count": 15,
   "metadata": {},
   "outputs": [
    {
     "data": {
      "text/plain": [
       "array([1955., 1951., 1933., 1965., 1987., 2001., 1995., 1963., 1960.,\n",
       "       2003., 1942., 1927., 1977., 1900., 1979., 1994., 1916., 1921.,\n",
       "       1969., 1947., 1968., 1985., 1941., 1915., 1909., 1948., 2005.,\n",
       "       1929., 1981., 1930., 1904., 1996., 2000., 1984., 2014., 1922.,\n",
       "       1959., 1966., 1953., 1950., 2008., 1991., 1954., 1973., 1925.,\n",
       "       1989., 1972., 1986., 1956., 2002., 1992., 1964., 1952., 1961.,\n",
       "       2006., 1988., 1962., 1939., 1946., 1967., 1975., 1980., 1910.,\n",
       "       1983., 1978., 1905., 1971., 2010., 1945., 1924., 1990., 1914.,\n",
       "       1926., 2004., 1923., 2007., 1976., 1949., 1999., 1901., 1993.,\n",
       "       1920., 1997., 1943., 1957., 1940., 1918., 1928., 1974., 1911.,\n",
       "       1936., 1937., 1982., 1908., 1931., 1998., 1913., 2013., 1907.,\n",
       "       1958., 2012., 1912., 2011., 1917., 1932., 1944., 1902., 2009.,\n",
       "       1903., 1970., 2015., 1934., 1938., 1919., 1906., 1935.])"
      ]
     },
     "execution_count": 15,
     "metadata": {},
     "output_type": "execute_result"
    }
   ],
   "source": [
    "data['yr_built'].unique()"
   ]
  },
  {
   "cell_type": "code",
   "execution_count": 16,
   "metadata": {},
   "outputs": [
    {
     "data": {
      "text/plain": [
       "Text(0.5,1,'price vs yr_built')"
      ]
     },
     "execution_count": 16,
     "metadata": {},
     "output_type": "execute_result"
    },
    {
     "data": {
      "image/png": "[encoded data removed]",
      "text/plain": [
       "<Figure size 432x288 with 1 Axes>"
      ]
     },
     "metadata": {},
     "output_type": "display_data"
    }
   ],
   "source": [
    "data['yr_built'] = np.where(data['yr_built'] < 1960, 0, data['yr_built'])\n",
    "data['yr_built'] = np.where(data['yr_built'] > 1959, 1, data['yr_built'])\n",
    "plt.scatter(data.yr_built, y)\n",
    "plt.xlabel(\"yr_built\")\n",
    "plt.ylabel(\"price\")\n",
    "plt.title(\"price vs yr_built\")"
   ]
  },
  {
   "cell_type": "code",
   "execution_count": 17,
   "metadata": {},
   "outputs": [
    {
     "name": "stdout",
     "output_type": "stream",
     "text": [
      "max value:  2015.0\n",
      "min value:  0.0\n",
      "(3165,)\n",
      "(150,)\n"
     ]
    },
    {
     "data": {
      "text/plain": [
       "<matplotlib.collections.PathCollection at 0x7fd4933161d0>"
      ]
     },
     "execution_count": 17,
     "metadata": {},
     "output_type": "execute_result"
    },
    {
     "data": {
      "image/png": "[encoded data removed]",
      "text/plain": [
       "<Figure size 432x288 with 1 Axes>"
      ]
     },
     "metadata": {},
     "output_type": "display_data"
    }
   ],
   "source": [
    "print(\"max value: \", data['yr_renovated'].max())\n",
    "print(\"min value: \", data['yr_renovated'].min())\n",
    "print(data['yr_renovated'].shape)\n",
    "# df.dropna() \n",
    "datayr_renovated1 = data['yr_renovated'][data['yr_renovated'] != 0]\n",
    "datay = y[data['yr_renovated'] != 0]\n",
    "print(datayr_renovated1.shape)\n",
    "plt.scatter(datayr_renovated1, datay)"
   ]
  },
  {
   "cell_type": "code",
   "execution_count": 18,
   "metadata": {},
   "outputs": [
    {
     "name": "stdout",
     "output_type": "stream",
     "text": [
      "[0. 1.]\n"
     ]
    },
    {
     "data": {
      "text/plain": [
       "bedrooms         False\n",
       "bathrooms        False\n",
       "sqft_living      False\n",
       "sqft_lot         False\n",
       "floors           False\n",
       "waterfront       False\n",
       "view             False\n",
       "condition        False\n",
       "grade            False\n",
       "sqft_above       False\n",
       "sqft_basement    False\n",
       "yr_built         False\n",
       "yr_renovated     False\n",
       "lat              False\n",
       "long             False\n",
       "dtype: bool"
      ]
     },
     "execution_count": 18,
     "metadata": {},
     "output_type": "execute_result"
    }
   ],
   "source": [
    "# we can see that the there small dataset with renovation before 1965\n",
    "# we will consider 0 for renovation done before 1995 and 1 for renovation after it \n",
    "data['yr_renovated'] = np.where(data['yr_renovated'] < 1960, 0, data['yr_renovated'])\n",
    "data['yr_renovated'] = np.where(data['yr_renovated'] > 1950, 1, data['yr_renovated'])\n",
    "print(data['yr_renovated'].unique())\n",
    "x = data\n",
    "x.isnull().any()"
   ]
  },
  {
   "cell_type": "code",
   "execution_count": 19,
   "metadata": {},
   "outputs": [],
   "source": [
    "x_train, x_test, y_train, y_test = train_test_split(x, y, test_size=0.2, random_state=10)"
   ]
  },
  {
   "cell_type": "code",
   "execution_count": 20,
   "metadata": {},
   "outputs": [
    {
     "name": "stdout",
     "output_type": "stream",
     "text": [
      "accurracy score:  0.6423140535078029\n",
      "time taken:  0.007030010223388672\n"
     ]
    }
   ],
   "source": [
    "import time\n",
    "t = time.time()\n",
    "model = LinearRegression(n_jobs=10)\n",
    "model.fit(x_train, y_train)\n",
    "print(\"accurracy score: \", model.score(x_test, y_test))\n",
    "print(\"time taken: \", time.time()-t)"
   ]
  },
  {
   "cell_type": "code",
   "execution_count": null,
   "metadata": {},
   "outputs": [],
   "source": []
  },
  {
   "cell_type": "code",
   "execution_count": 21,
   "metadata": {},
   "outputs": [
    {
     "name": "stdout",
     "output_type": "stream",
     "text": [
      "accurracy score:  0.8295631740594407\n",
      "time taken:  3.6181483268737793\n"
     ]
    }
   ],
   "source": [
    "from sklearn import ensemble\n",
    "t = time.time()\n",
    "model = ensemble.GradientBoostingRegressor(\n",
    "    n_estimators=1400,        #how many decision trees to build\n",
    "    learning_rate=0.01,        #how much each additional decision tree influences the overall prediction\n",
    "    max_depth=6,              #how many layers deep each decision tree is\n",
    "    min_samples_leaf=9,       # minimum samples must exhibit similar behavior for decision tree to make decision around it\n",
    "    max_features=0.1,         # percentage of features to choose each time we create branch in decision tree\n",
    "    loss='huber',             #how scikit calculates model's error rate or cost as it learns\n",
    "    random_state=0            #used to determine random seed passed to random number generator\n",
    ")\n",
    "model.fit(x_train, y_train) \n",
    "print(\"accurracy score: \", model.score(x_test, y_test))\n",
    "print(\"time taken: \", time.time()-t)"
   ]
  },
  {
   "cell_type": "code",
   "execution_count": 22,
   "metadata": {},
   "outputs": [],
   "source": [
    "# changing the default parameters and training the model with GradientBoostingRegressor we can see that the accurracy increased by 10%"
   ]
  }
 ],
 "metadata": {
  "kernelspec": {
   "display_name": "Python 3",
   "language": "python",
   "name": "python3"
  },
  "language_info": {
   "codemirror_mode": {
    "name": "ipython",
    "version": 3
   },
   "file_extension": ".py",
   "mimetype": "text/x-python",
   "name": "python",
   "nbconvert_exporter": "python",
   "pygments_lexer": "ipython3",
   "version": "3.6.5"
  }
 },
 "nbformat": 4,
 "nbformat_minor": 2
}
