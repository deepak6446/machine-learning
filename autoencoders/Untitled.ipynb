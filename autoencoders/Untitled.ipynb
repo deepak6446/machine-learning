{
 "cells": [
  {
   "cell_type": "code",
   "execution_count": 1,
   "metadata": {},
   "outputs": [
    {
     "name": "stderr",
     "output_type": "stream",
     "text": [
      "Using TensorFlow backend.\n"
     ]
    }
   ],
   "source": [
    "from keras.datasets import mnist\n",
    "import numpy as np"
   ]
  },
  {
   "cell_type": "code",
   "execution_count": 2,
   "metadata": {},
   "outputs": [],
   "source": [
    "(x_train, _), (x_test, _) = mnist.load_data()"
   ]
  },
  {
   "cell_type": "code",
   "execution_count": 3,
   "metadata": {},
   "outputs": [
    {
     "data": {
      "text/plain": [
       "(60000, 28, 28)"
      ]
     },
     "execution_count": 3,
     "metadata": {},
     "output_type": "execute_result"
    }
   ],
   "source": [
    "x_train.shape"
   ]
  },
  {
   "cell_type": "code",
   "execution_count": 4,
   "metadata": {},
   "outputs": [
    {
     "name": "stdout",
     "output_type": "stream",
     "text": [
      "(60000, 784)\n",
      "(10000, 784)\n"
     ]
    }
   ],
   "source": [
    "x_train = x_train.astype('float32') / 255.\n",
    "x_test = x_test.astype('float32') / 255.\n",
    "x_train = x_train.reshape((len(x_train), np.prod(x_train.shape[1:])))\n",
    "x_test = x_test.reshape((len(x_test), np.prod(x_test.shape[1:])))\n",
    "print(x_train.shape)\n",
    "print(x_test.shape)"
   ]
  },
  {
   "cell_type": "code",
   "execution_count": 5,
   "metadata": {},
   "outputs": [
    {
     "name": "stdout",
     "output_type": "stream",
     "text": [
      "WARNING:tensorflow:From /home/dpoo@eur.ad.sag/anaconda3/lib/python3.7/site-packages/tensorflow/python/framework/op_def_library.py:263: colocate_with (from tensorflow.python.framework.ops) is deprecated and will be removed in a future version.\n",
      "Instructions for updating:\n",
      "Colocations handled automatically by placer.\n"
     ]
    }
   ],
   "source": [
    "from keras.layers import Input, Dense\n",
    "from keras.models import Model\n",
    "\n",
    "# this is the size of our encoded representations\n",
    "encoding_dim = 32  # 32 floats -> compression of factor 24.5, assuming the input is 784 floats\n",
    "\n",
    "# this is our input placeholder\n",
    "input_img = Input(shape=(784,))\n",
    "# \"encoded\" is the encoded representation of the input\n",
    "encoded = Dense(encoding_dim, activation='relu')(input_img)\n",
    "# \"decoded\" is the lossy reconstruction of the input\n",
    "decoded = Dense(784, activation='sigmoid')(encoded)\n",
    "\n",
    "# this model maps an input to its reconstruction\n",
    "autoencoder = Model(input_img, decoded)"
   ]
  },
  {
   "cell_type": "code",
   "execution_count": 6,
   "metadata": {},
   "outputs": [],
   "source": [
    "autoencoder.compile(optimizer='adadelta', loss='binary_crossentropy')"
   ]
  },
  {
   "cell_type": "code",
   "execution_count": 7,
   "metadata": {},
   "outputs": [
    {
     "name": "stdout",
     "output_type": "stream",
     "text": [
      "WARNING:tensorflow:From /home/dpoo@eur.ad.sag/anaconda3/lib/python3.7/site-packages/tensorflow/python/ops/math_ops.py:3066: to_int32 (from tensorflow.python.ops.math_ops) is deprecated and will be removed in a future version.\n",
      "Instructions for updating:\n",
      "Use tf.cast instead.\n",
      "Train on 60000 samples, validate on 10000 samples\n",
      "Epoch 1/50\n",
      "60000/60000 [==============================] - 3s 48us/step - loss: 0.3646 - val_loss: 0.2713\n",
      "Epoch 2/50\n",
      "60000/60000 [==============================] - 2s 39us/step - loss: 0.2648 - val_loss: 0.2545\n",
      "Epoch 3/50\n",
      "60000/60000 [==============================] - 3s 44us/step - loss: 0.2439 - val_loss: 0.2308\n",
      "Epoch 4/50\n",
      "60000/60000 [==============================] - 3s 46us/step - loss: 0.2228 - val_loss: 0.2122\n",
      "Epoch 5/50\n",
      "60000/60000 [==============================] - 2s 42us/step - loss: 0.2073 - val_loss: 0.1995\n",
      "Epoch 6/50\n",
      "60000/60000 [==============================] - 2s 41us/step - loss: 0.1964 - val_loss: 0.1904\n",
      "Epoch 7/50\n",
      "60000/60000 [==============================] - 2s 39us/step - loss: 0.1882 - val_loss: 0.1832\n",
      "Epoch 8/50\n",
      "60000/60000 [==============================] - 2s 39us/step - loss: 0.1813 - val_loss: 0.1766\n",
      "Epoch 9/50\n",
      "60000/60000 [==============================] - 3s 42us/step - loss: 0.1753 - val_loss: 0.1710\n",
      "Epoch 10/50\n",
      "60000/60000 [==============================] - 2s 41us/step - loss: 0.1699 - val_loss: 0.1660\n",
      "Epoch 11/50\n",
      "60000/60000 [==============================] - 2s 39us/step - loss: 0.1651 - val_loss: 0.1613\n",
      "Epoch 12/50\n",
      "60000/60000 [==============================] - 2s 39us/step - loss: 0.1608 - val_loss: 0.1572\n",
      "Epoch 13/50\n",
      "60000/60000 [==============================] - 2s 41us/step - loss: 0.1569 - val_loss: 0.1536\n",
      "Epoch 14/50\n",
      "60000/60000 [==============================] - 2s 40us/step - loss: 0.1534 - val_loss: 0.1503\n",
      "Epoch 15/50\n",
      "60000/60000 [==============================] - 3s 42us/step - loss: 0.1502 - val_loss: 0.1472\n",
      "Epoch 16/50\n",
      "60000/60000 [==============================] - 2s 41us/step - loss: 0.1473 - val_loss: 0.1443\n",
      "Epoch 17/50\n",
      "60000/60000 [==============================] - 2s 41us/step - loss: 0.1445 - val_loss: 0.1416\n",
      "Epoch 18/50\n",
      "60000/60000 [==============================] - 2s 40us/step - loss: 0.1418 - val_loss: 0.1390\n",
      "Epoch 19/50\n",
      "60000/60000 [==============================] - 2s 41us/step - loss: 0.1393 - val_loss: 0.1365\n",
      "Epoch 20/50\n",
      "60000/60000 [==============================] - 2s 40us/step - loss: 0.1369 - val_loss: 0.1342\n",
      "Epoch 21/50\n",
      "60000/60000 [==============================] - 3s 44us/step - loss: 0.1345 - val_loss: 0.1318\n",
      "Epoch 22/50\n",
      "60000/60000 [==============================] - 3s 43us/step - loss: 0.1322 - val_loss: 0.1296\n",
      "Epoch 23/50\n",
      "60000/60000 [==============================] - 2s 40us/step - loss: 0.1301 - val_loss: 0.1275\n",
      "Epoch 24/50\n",
      "60000/60000 [==============================] - 2s 39us/step - loss: 0.1280 - val_loss: 0.1254\n",
      "Epoch 25/50\n",
      "60000/60000 [==============================] - 2s 39us/step - loss: 0.1260 - val_loss: 0.1234\n",
      "Epoch 26/50\n",
      "60000/60000 [==============================] - 3s 42us/step - loss: 0.1241 - val_loss: 0.1216\n",
      "Epoch 27/50\n",
      "60000/60000 [==============================] - 3s 42us/step - loss: 0.1224 - val_loss: 0.1199\n",
      "Epoch 28/50\n",
      "60000/60000 [==============================] - 3s 43us/step - loss: 0.1207 - val_loss: 0.1183\n",
      "Epoch 29/50\n",
      "60000/60000 [==============================] - 3s 42us/step - loss: 0.1191 - val_loss: 0.1168\n",
      "Epoch 30/50\n",
      "60000/60000 [==============================] - 2s 42us/step - loss: 0.1177 - val_loss: 0.1153\n",
      "Epoch 31/50\n",
      "60000/60000 [==============================] - 2s 42us/step - loss: 0.1163 - val_loss: 0.1140\n",
      "Epoch 32/50\n",
      "60000/60000 [==============================] - 2s 41us/step - loss: 0.1150 - val_loss: 0.1128\n",
      "Epoch 33/50\n",
      "60000/60000 [==============================] - 3s 44us/step - loss: 0.1139 - val_loss: 0.1116\n",
      "Epoch 34/50\n",
      "60000/60000 [==============================] - 3s 43us/step - loss: 0.1128 - val_loss: 0.1106\n",
      "Epoch 35/50\n",
      "60000/60000 [==============================] - 2s 41us/step - loss: 0.1118 - val_loss: 0.1097\n",
      "Epoch 36/50\n",
      "60000/60000 [==============================] - 3s 42us/step - loss: 0.1109 - val_loss: 0.1088\n",
      "Epoch 37/50\n",
      "60000/60000 [==============================] - 3s 42us/step - loss: 0.1100 - val_loss: 0.1080\n",
      "Epoch 38/50\n",
      "60000/60000 [==============================] - 3s 42us/step - loss: 0.1093 - val_loss: 0.1072\n",
      "Epoch 39/50\n",
      "60000/60000 [==============================] - 3s 45us/step - loss: 0.1085 - val_loss: 0.1065\n",
      "Epoch 40/50\n",
      "60000/60000 [==============================] - 3s 44us/step - loss: 0.1079 - val_loss: 0.1059\n",
      "Epoch 41/50\n",
      "60000/60000 [==============================] - 3s 44us/step - loss: 0.1072 - val_loss: 0.1053\n",
      "Epoch 42/50\n",
      "60000/60000 [==============================] - 3s 43us/step - loss: 0.1066 - val_loss: 0.1047\n",
      "Epoch 43/50\n",
      "60000/60000 [==============================] - 3s 43us/step - loss: 0.1061 - val_loss: 0.1042\n",
      "Epoch 44/50\n",
      "60000/60000 [==============================] - 3s 43us/step - loss: 0.1056 - val_loss: 0.1037\n",
      "Epoch 45/50\n",
      "60000/60000 [==============================] - 2s 42us/step - loss: 0.1051 - val_loss: 0.1032\n",
      "Epoch 46/50\n",
      "60000/60000 [==============================] - 2s 41us/step - loss: 0.1046 - val_loss: 0.1028\n",
      "Epoch 47/50\n",
      "60000/60000 [==============================] - 2s 41us/step - loss: 0.1042 - val_loss: 0.1024\n",
      "Epoch 48/50\n",
      "60000/60000 [==============================] - 2s 41us/step - loss: 0.1038 - val_loss: 0.1020\n",
      "Epoch 49/50\n",
      "60000/60000 [==============================] - 2s 41us/step - loss: 0.1034 - val_loss: 0.1016\n",
      "Epoch 50/50\n",
      "60000/60000 [==============================] - 3s 42us/step - loss: 0.1030 - val_loss: 0.1012\n"
     ]
    },
    {
     "data": {
      "text/plain": [
       "<keras.callbacks.History at 0x7f476d4e6c50>"
      ]
     },
     "execution_count": 7,
     "metadata": {},
     "output_type": "execute_result"
    }
   ],
   "source": [
    "autoencoder.fit(x_train, x_train,\n",
    "                epochs=50,\n",
    "                batch_size=256,\n",
    "                shuffle=True,\n",
    "                validation_data=(x_test, x_test))"
   ]
  },
  {
   "cell_type": "code",
   "execution_count": 8,
   "metadata": {},
   "outputs": [],
   "source": [
    "# this model maps an input to its encoded representation\n",
    "encoder = Model(input_img, encoded)"
   ]
  },
  {
   "cell_type": "code",
   "execution_count": 9,
   "metadata": {},
   "outputs": [],
   "source": [
    "# create a placeholder for an encoded (32-dimensional) input\n",
    "encoded_input = Input(shape=(encoding_dim,))"
   ]
  },
  {
   "cell_type": "code",
   "execution_count": 10,
   "metadata": {},
   "outputs": [],
   "source": [
    "# retrieve the last layer of the autoencoder model\n",
    "decoder_layer = autoencoder.layers[-1]\n",
    "# create the decoder model\n",
    "decoder = Model(encoded_input, decoder_layer(encoded_input))"
   ]
  },
  {
   "cell_type": "code",
   "execution_count": 11,
   "metadata": {},
   "outputs": [],
   "source": [
    "# encode and decode some digits\n",
    "# note that we take them from the *test* set\n",
    "encoded_imgs = encoder.predict(x_test)\n",
    "decoded_imgs = decoder.predict(encoded_imgs)"
   ]
  },
  {
   "cell_type": "code",
   "execution_count": 17,
   "metadata": {},
   "outputs": [
    {
     "data": {
      "image/png": "[encoded data removed]",
      "text/plain": [
       "<Figure size 1440x288 with 30 Axes>"
      ]
     },
     "metadata": {
      "needs_background": "light"
     },
     "output_type": "display_data"
    }
   ],
   "source": [
    "# use Matplotlib (don't ask)\n",
    "import matplotlib.pyplot as plt\n",
    "\n",
    "n = 10  # how many digits we will display\n",
    "plt.figure(figsize=(20, 4))\n",
    "for i in range(n):\n",
    "    # display original\n",
    "    ax = plt.subplot(3, n, i + 1)\n",
    "    plt.imshow(x_test[i].reshape(28, 28))\n",
    "    plt.gray()\n",
    "    ax.get_xaxis().set_visible(False)\n",
    "    ax.get_yaxis().set_visible(False)\n",
    "    \n",
    "    # display encoded image\n",
    "    ax = plt.subplot(3, n, i + 1 + n)\n",
    "    plt.imshow(encoded_imgs[i].reshape(8, 4))\n",
    "    plt.gray()\n",
    "    ax.get_xaxis().set_visible(False)\n",
    "    ax.get_yaxis().set_visible(False)\n",
    "    \n",
    "    # display reconstruction\n",
    "    ax = plt.subplot(3, n, i +1+ n + n)\n",
    "    plt.imshow(decoded_imgs[i].reshape(28, 28))\n",
    "    plt.gray()\n",
    "    ax.get_xaxis().set_visible(False)\n",
    "    ax.get_yaxis().set_visible(False)\n",
    "plt.show()"
   ]
  },
  {
   "cell_type": "code",
   "execution_count": 13,
   "metadata": {},
   "outputs": [
    {
     "name": "stdout",
     "output_type": "stream",
     "text": [
      "encoded image in MB 1.280112\n",
      "decoded image in MB 31.360112\n"
     ]
    }
   ],
   "source": [
    "import sys\n",
    "print(\"encoded image in MB\", sys.getsizeof(encoded_imgs)/1000000)\n",
    "print(\"decoded image in MB\", sys.getsizeof(decoded_imgs)/1000000)"
   ]
  },
  {
   "cell_type": "code",
   "execution_count": 14,
   "metadata": {},
   "outputs": [
    {
     "name": "stdout",
     "output_type": "stream",
     "text": [
      "Train on 60000 samples, validate on 10000 samples\n",
      "Epoch 1/100\n",
      "60000/60000 [==============================] - 5s 84us/step - loss: 0.3602 - val_loss: 0.2634\n",
      "Epoch 2/100\n",
      "60000/60000 [==============================] - 5s 81us/step - loss: 0.2579 - val_loss: 0.2519\n",
      "Epoch 3/100\n",
      "60000/60000 [==============================] - 5s 76us/step - loss: 0.2429 - val_loss: 0.2342\n",
      "Epoch 4/100\n",
      "60000/60000 [==============================] - 5s 76us/step - loss: 0.2226 - val_loss: 0.2108\n",
      "Epoch 5/100\n",
      "60000/60000 [==============================] - 5s 76us/step - loss: 0.2014 - val_loss: 0.1972\n",
      "Epoch 6/100\n",
      "60000/60000 [==============================] - 4s 75us/step - loss: 0.1911 - val_loss: 0.1899\n",
      "Epoch 7/100\n",
      "60000/60000 [==============================] - 4s 74us/step - loss: 0.1839 - val_loss: 0.1803\n",
      "Epoch 8/100\n",
      "60000/60000 [==============================] - 4s 74us/step - loss: 0.1783 - val_loss: 0.1734\n",
      "Epoch 9/100\n",
      "60000/60000 [==============================] - 4s 72us/step - loss: 0.1743 - val_loss: 0.1750\n",
      "Epoch 10/100\n",
      "60000/60000 [==============================] - 4s 73us/step - loss: 0.6196 - val_loss: 0.6778\n",
      "Epoch 11/100\n",
      "60000/60000 [==============================] - 4s 72us/step - loss: 0.6567 - val_loss: 0.6358\n",
      "Epoch 12/100\n",
      "60000/60000 [==============================] - 4s 72us/step - loss: 0.6165 - val_loss: 0.5981\n",
      "Epoch 13/100\n",
      "60000/60000 [==============================] - 4s 71us/step - loss: 0.5814 - val_loss: 0.5655\n",
      "Epoch 14/100\n",
      "60000/60000 [==============================] - 4s 72us/step - loss: 0.5510 - val_loss: 0.5373\n",
      "Epoch 15/100\n",
      "60000/60000 [==============================] - 5s 75us/step - loss: 0.5247 - val_loss: 0.5127\n",
      "Epoch 16/100\n",
      "60000/60000 [==============================] - 4s 73us/step - loss: 0.5017 - val_loss: 0.4913\n",
      "Epoch 17/100\n",
      "60000/60000 [==============================] - 4s 71us/step - loss: 0.4817 - val_loss: 0.4726\n",
      "Epoch 18/100\n",
      "60000/60000 [==============================] - 4s 73us/step - loss: 0.4641 - val_loss: 0.4561\n",
      "Epoch 19/100\n",
      "60000/60000 [==============================] - 4s 74us/step - loss: 0.4486 - val_loss: 0.4416\n",
      "Epoch 20/100\n",
      "60000/60000 [==============================] - 4s 71us/step - loss: 0.4349 - val_loss: 0.4287\n",
      "Epoch 21/100\n",
      "60000/60000 [==============================] - 4s 71us/step - loss: 0.4227 - val_loss: 0.4172\n",
      "Epoch 22/100\n",
      "60000/60000 [==============================] - 4s 71us/step - loss: 0.4118 - val_loss: 0.4069\n",
      "Epoch 23/100\n",
      "60000/60000 [==============================] - 4s 71us/step - loss: 0.4021 - val_loss: 0.3977\n",
      "Epoch 24/100\n",
      "60000/60000 [==============================] - 4s 71us/step - loss: 0.3933 - val_loss: 0.3894\n",
      "Epoch 25/100\n",
      "60000/60000 [==============================] - 4s 70us/step - loss: 0.3854 - val_loss: 0.3819\n",
      "Epoch 26/100\n",
      "60000/60000 [==============================] - 4s 72us/step - loss: 0.3783 - val_loss: 0.3751\n",
      "Epoch 27/100\n",
      "60000/60000 [==============================] - 4s 69us/step - loss: 0.3718 - val_loss: 0.3689\n",
      "Epoch 28/100\n",
      "60000/60000 [==============================] - 4s 71us/step - loss: 0.3659 - val_loss: 0.3633\n",
      "Epoch 29/100\n",
      "60000/60000 [==============================] - 4s 70us/step - loss: 0.3605 - val_loss: 0.3582\n",
      "Epoch 30/100\n",
      "60000/60000 [==============================] - 4s 71us/step - loss: 0.3556 - val_loss: 0.3534\n",
      "Epoch 31/100\n",
      "60000/60000 [==============================] - 4s 69us/step - loss: 0.3511 - val_loss: 0.3491\n",
      "Epoch 32/100\n",
      "60000/60000 [==============================] - 4s 71us/step - loss: 0.3469 - val_loss: 0.3451\n",
      "Epoch 33/100\n",
      "60000/60000 [==============================] - 4s 69us/step - loss: 0.3431 - val_loss: 0.3414\n",
      "Epoch 34/100\n",
      "60000/60000 [==============================] - 4s 69us/step - loss: 0.3395 - val_loss: 0.3380\n",
      "Epoch 35/100\n",
      "60000/60000 [==============================] - 4s 69us/step - loss: 0.3362 - val_loss: 0.3348\n",
      "Epoch 36/100\n",
      "60000/60000 [==============================] - 4s 69us/step - loss: 0.3332 - val_loss: 0.3319\n",
      "Epoch 37/100\n",
      "60000/60000 [==============================] - 4s 68us/step - loss: 0.3303 - val_loss: 0.3291\n",
      "Epoch 38/100\n",
      "60000/60000 [==============================] - 4s 69us/step - loss: 0.3277 - val_loss: 0.3266\n",
      "Epoch 39/100\n",
      "60000/60000 [==============================] - 4s 70us/step - loss: 0.3252 - val_loss: 0.3242\n",
      "Epoch 40/100\n",
      "60000/60000 [==============================] - 4s 69us/step - loss: 0.3229 - val_loss: 0.3219\n",
      "Epoch 41/100\n",
      "60000/60000 [==============================] - 4s 70us/step - loss: 0.3207 - val_loss: 0.3198\n",
      "Epoch 42/100\n",
      "60000/60000 [==============================] - 4s 70us/step - loss: 0.3187 - val_loss: 0.3179\n",
      "Epoch 43/100\n",
      "60000/60000 [==============================] - 4s 72us/step - loss: 0.3168 - val_loss: 0.3160\n",
      "Epoch 44/100\n",
      "60000/60000 [==============================] - 5s 80us/step - loss: 0.3150 - val_loss: 0.3142\n",
      "Epoch 45/100\n",
      "60000/60000 [==============================] - 5s 76us/step - loss: 0.3133 - val_loss: 0.3126\n",
      "Epoch 46/100\n",
      "60000/60000 [==============================] - 4s 74us/step - loss: 0.3117 - val_loss: 0.3110\n",
      "Epoch 47/100\n",
      "60000/60000 [==============================] - 4s 74us/step - loss: 0.3101 - val_loss: 0.3095\n",
      "Epoch 48/100\n",
      "60000/60000 [==============================] - 5s 76us/step - loss: 0.3087 - val_loss: 0.3081\n",
      "Epoch 49/100\n",
      "60000/60000 [==============================] - 5s 78us/step - loss: 0.3074 - val_loss: 0.3068\n",
      "Epoch 50/100\n",
      "60000/60000 [==============================] - 5s 79us/step - loss: 0.3061 - val_loss: 0.3056\n",
      "Epoch 51/100\n",
      "60000/60000 [==============================] - 4s 72us/step - loss: 0.3048 - val_loss: 0.3044\n",
      "Epoch 52/100\n",
      "60000/60000 [==============================] - 4s 70us/step - loss: 0.3037 - val_loss: 0.3032\n",
      "Epoch 53/100\n",
      "60000/60000 [==============================] - 5s 75us/step - loss: 0.3026 - val_loss: 0.3021\n",
      "Epoch 54/100\n",
      "60000/60000 [==============================] - 4s 72us/step - loss: 0.3015 - val_loss: 0.3011\n",
      "Epoch 55/100\n",
      "60000/60000 [==============================] - 4s 73us/step - loss: 0.3005 - val_loss: 0.3001\n",
      "Epoch 56/100\n",
      "60000/60000 [==============================] - 4s 73us/step - loss: 0.2995 - val_loss: 0.2992\n",
      "Epoch 57/100\n",
      "60000/60000 [==============================] - 5s 88us/step - loss: 0.2986 - val_loss: 0.2983\n",
      "Epoch 58/100\n",
      "60000/60000 [==============================] - 4s 74us/step - loss: 0.2977 - val_loss: 0.2974\n",
      "Epoch 59/100\n",
      "60000/60000 [==============================] - 4s 71us/step - loss: 0.2969 - val_loss: 0.2966\n",
      "Epoch 60/100\n",
      "60000/60000 [==============================] - 4s 68us/step - loss: 0.2961 - val_loss: 0.2958\n",
      "Epoch 61/100\n",
      "60000/60000 [==============================] - 4s 70us/step - loss: 0.2953 - val_loss: 0.2950\n",
      "Epoch 62/100\n",
      "60000/60000 [==============================] - 4s 70us/step - loss: 0.2946 - val_loss: 0.2943\n",
      "Epoch 63/100\n",
      "60000/60000 [==============================] - 4s 69us/step - loss: 0.2939 - val_loss: 0.2936\n",
      "Epoch 64/100\n",
      "60000/60000 [==============================] - 4s 74us/step - loss: 0.2932 - val_loss: 0.2929\n",
      "Epoch 65/100\n",
      "60000/60000 [==============================] - 4s 72us/step - loss: 0.2925 - val_loss: 0.2923\n",
      "Epoch 66/100\n",
      "60000/60000 [==============================] - 4s 75us/step - loss: 0.2919 - val_loss: 0.2917\n",
      "Epoch 67/100\n",
      "60000/60000 [==============================] - 4s 74us/step - loss: 0.2913 - val_loss: 0.2911\n",
      "Epoch 68/100\n",
      "60000/60000 [==============================] - 4s 71us/step - loss: 0.2907 - val_loss: 0.2905\n",
      "Epoch 69/100\n",
      "60000/60000 [==============================] - 5s 79us/step - loss: 0.2901 - val_loss: 0.2899\n",
      "Epoch 70/100\n",
      "60000/60000 [==============================] - 4s 74us/step - loss: 0.2896 - val_loss: 0.2894\n",
      "Epoch 71/100\n",
      "60000/60000 [==============================] - 5s 76us/step - loss: 0.2891 - val_loss: 0.2889\n",
      "Epoch 72/100\n",
      "60000/60000 [==============================] - 4s 71us/step - loss: 0.2886 - val_loss: 0.2884\n",
      "Epoch 73/100\n",
      "60000/60000 [==============================] - 4s 75us/step - loss: 0.2881 - val_loss: 0.2879\n",
      "Epoch 74/100\n",
      "60000/60000 [==============================] - 5s 76us/step - loss: 0.2876 - val_loss: 0.2874\n",
      "Epoch 75/100\n",
      "60000/60000 [==============================] - 5s 78us/step - loss: 0.2872 - val_loss: 0.2870\n",
      "Epoch 76/100\n",
      "60000/60000 [==============================] - 5s 83us/step - loss: 0.2867 - val_loss: 0.2865\n",
      "Epoch 77/100\n",
      "60000/60000 [==============================] - 5s 75us/step - loss: 0.2863 - val_loss: 0.2861\n",
      "Epoch 78/100\n",
      "60000/60000 [==============================] - 5s 77us/step - loss: 0.2859 - val_loss: 0.2857\n",
      "Epoch 79/100\n",
      "60000/60000 [==============================] - 5s 76us/step - loss: 0.2855 - val_loss: 0.2853\n",
      "Epoch 80/100\n",
      "60000/60000 [==============================] - 4s 73us/step - loss: 0.2851 - val_loss: 0.2849\n",
      "Epoch 81/100\n",
      "60000/60000 [==============================] - 5s 76us/step - loss: 0.2847 - val_loss: 0.2845\n",
      "Epoch 82/100\n",
      "60000/60000 [==============================] - 5s 78us/step - loss: 0.2843 - val_loss: 0.2842\n",
      "Epoch 83/100\n",
      "60000/60000 [==============================] - 5s 81us/step - loss: 0.2840 - val_loss: 0.2838\n",
      "Epoch 84/100\n",
      "60000/60000 [==============================] - 5s 75us/step - loss: 0.2836 - val_loss: 0.2835\n",
      "Epoch 85/100\n",
      "60000/60000 [==============================] - 5s 77us/step - loss: 0.2833 - val_loss: 0.2832\n",
      "Epoch 86/100\n",
      "60000/60000 [==============================] - 5s 79us/step - loss: 0.2830 - val_loss: 0.2828\n",
      "Epoch 87/100\n",
      "60000/60000 [==============================] - 5s 79us/step - loss: 0.2827 - val_loss: 0.2825\n",
      "Epoch 88/100\n",
      "60000/60000 [==============================] - 4s 73us/step - loss: 0.2824 - val_loss: 0.2822\n",
      "Epoch 89/100\n",
      "60000/60000 [==============================] - 4s 72us/step - loss: 0.2821 - val_loss: 0.2819\n",
      "Epoch 90/100\n",
      "60000/60000 [==============================] - 4s 72us/step - loss: 0.2818 - val_loss: 0.2816\n",
      "Epoch 91/100\n",
      "60000/60000 [==============================] - 4s 73us/step - loss: 0.2815 - val_loss: 0.2813\n",
      "Epoch 92/100\n",
      "60000/60000 [==============================] - 5s 76us/step - loss: 0.2812 - val_loss: 0.2811\n",
      "Epoch 93/100\n",
      "60000/60000 [==============================] - 4s 73us/step - loss: 0.2810 - val_loss: 0.2808\n",
      "Epoch 94/100\n",
      "60000/60000 [==============================] - 4s 71us/step - loss: 0.2807 - val_loss: 0.2805\n",
      "Epoch 95/100\n",
      "60000/60000 [==============================] - 4s 72us/step - loss: 0.2804 - val_loss: 0.2803\n",
      "Epoch 96/100\n",
      "60000/60000 [==============================] - 4s 74us/step - loss: 0.2802 - val_loss: 0.2800\n",
      "Epoch 97/100\n",
      "60000/60000 [==============================] - 4s 73us/step - loss: 0.2800 - val_loss: 0.2798\n",
      "Epoch 98/100\n",
      "60000/60000 [==============================] - 4s 74us/step - loss: 0.2797 - val_loss: 0.2796\n",
      "Epoch 99/100\n",
      "60000/60000 [==============================] - 4s 74us/step - loss: 0.2795 - val_loss: 0.2793\n",
      "Epoch 100/100\n",
      "60000/60000 [==============================] - 5s 75us/step - loss: 0.2793 - val_loss: 0.2791\n"
     ]
    },
    {
     "data": {
      "text/plain": [
       "<keras.callbacks.History at 0x7f472c569e10>"
      ]
     },
     "execution_count": 14,
     "metadata": {},
     "output_type": "execute_result"
    }
   ],
   "source": [
    "# deep autoencoders\n",
    "input_img = Input(shape=(784,))\n",
    "encoded = Dense(128, activation='relu')(input_img)\n",
    "encoded = Dense(64, activation='relu')(encoded)\n",
    "encoded = Dense(32, activation='relu')(encoded)\n",
    "\n",
    "decoded = Dense(64, activation='relu')(encoded)\n",
    "decoded = Dense(128, activation='relu')(decoded)\n",
    "decoded = Dense(784, activation='sigmoid')(decoded)\n",
    "\n",
    "autoencoder = Model(input_img, decoded)\n",
    "autoencoder.compile(optimizer='adadelta', loss='binary_crossentropy')\n",
    "\n",
    "autoencoder.fit(x_train, x_train,\n",
    "                epochs=100,\n",
    "                batch_size=256,\n",
    "                shuffle=True,\n",
    "                validation_data=(x_test, x_test))"
   ]
  },
  {
   "cell_type": "code",
   "execution_count": 15,
   "metadata": {},
   "outputs": [],
   "source": [
    "# adding noise\n",
    "for i in range(len(x_test[1])):\n",
    "    if (i%5 == 0):\n",
    "        x_test[1][i] = 1\n",
    "encoded_imgs = encoder.predict(x_test)\n",
    "decoded_imgs = decoder.predict(encoded_imgs)"
   ]
  },
  {
   "cell_type": "code",
   "execution_count": 16,
   "metadata": {},
   "outputs": [
    {
     "data": {
      "image/png": "[encoded data removed]",
      "text/plain": [
       "<Figure size 1440x288 with 2 Axes>"
      ]
     },
     "metadata": {
      "needs_background": "light"
     },
     "output_type": "display_data"
    }
   ],
   "source": [
    "# use Matplotlib (don't ask)\n",
    "import matplotlib.pyplot as plt\n",
    "\n",
    "n = 1  # how many digits we will display\n",
    "plt.figure(figsize=(20, 4))\n",
    "for i in range(n):\n",
    "    # display original\n",
    "    ax = plt.subplot(2, n, i + 1)\n",
    "    plt.imshow(x_test[1].reshape(28, 28))\n",
    "    plt.gray()\n",
    "    ax.get_xaxis().set_visible(False)\n",
    "    ax.get_yaxis().set_visible(False)\n",
    "\n",
    "    # display reconstruction\n",
    "    ax = plt.subplot(2, n, i + 1 + n)\n",
    "    plt.imshow(decoded_imgs[1].reshape(28, 28))\n",
    "    plt.gray()\n",
    "    ax.get_xaxis().set_visible(False)\n",
    "    ax.get_yaxis().set_visible(False)\n",
    "plt.show()"
   ]
  },
  {
   "cell_type": "code",
   "execution_count": null,
   "metadata": {},
   "outputs": [],
   "source": []
  }
 ],
 "metadata": {
  "kernelspec": {
   "display_name": "Python 3",
   "language": "python",
   "name": "python3"
  },
  "language_info": {
   "codemirror_mode": {
    "name": "ipython",
    "version": 2
   },
   "file_extension": ".py",
   "mimetype": "text/x-python",
   "name": "python",
   "nbconvert_exporter": "python",
   "pygments_lexer": "ipython2",
   "version": "2.7.16"
  },
  "widgets": {
   "state": {},
   "version": "1.1.2"
  }
 },
 "nbformat": 4,
 "nbformat_minor": 2
}
