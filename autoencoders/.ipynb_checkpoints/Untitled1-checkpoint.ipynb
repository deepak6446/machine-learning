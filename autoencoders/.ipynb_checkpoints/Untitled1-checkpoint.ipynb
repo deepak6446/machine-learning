{
 "cells": [
  {
   "cell_type": "code",
   "execution_count": 1,
   "metadata": {},
   "outputs": [],
   "source": [
    "from keras.datasets import mnist\n",
    "import numpy as np"
   ]
  },
  {
   "cell_type": "code",
   "execution_count": 2,
   "metadata": {},
   "outputs": [],
   "source": [
    "(x_train, _), (x_test, _) = mnist.load_data()"
   ]
  },
  {
   "cell_type": "code",
   "execution_count": 3,
   "metadata": {},
   "outputs": [
    {
     "data": {
      "text/plain": [
       "(60000, 28, 28)"
      ]
     },
     "execution_count": 3,
     "metadata": {},
     "output_type": "execute_result"
    }
   ],
   "source": [
    "x_train.shape"
   ]
  },
  {
   "cell_type": "code",
   "execution_count": 4,
   "metadata": {},
   "outputs": [
    {
     "data": {
      "text/plain": [
       "array([[  0,   0,   0,   0,   0,   0,   0,   0,   0,   0,   0,   0,   0,\n",
       "          0,   0,   0,   0,   0,   0,   0,   0,   0,   0,   0,   0,   0,\n",
       "          0,   0],\n",
       "       [  0,   0,   0,   0,   0,   0,   0,   0,   0,   0,   0,   0,   0,\n",
       "          0,   0,   0,   0,   0,   0,   0,   0,   0,   0,   0,   0,   0,\n",
       "          0,   0],\n",
       "       [  0,   0,   0,   0,   0,   0,   0,   0,   0,   0,   0,   0,   0,\n",
       "          0,   0,   0,   0,   0,   0,   0,   0,   0,   0,   0,   0,   0,\n",
       "          0,   0],\n",
       "       [  0,   0,   0,   0,   0,   0,   0,   0,   0,   0,   0,   0,   0,\n",
       "          0,   0,   0,   0,   0,   0,   0,   0,   0,   0,   0,   0,   0,\n",
       "          0,   0],\n",
       "       [  0,   0,   0,   0,   0,   0,   0,   0,   0,   0,   0,   0,   0,\n",
       "          0,   0,   0,   0,   0,   0,   0,   0,   0,   0,   0,   0,   0,\n",
       "          0,   0],\n",
       "       [  0,   0,   0,   0,   0,   0,   0,   0,   0,   0,   0,   0,   3,\n",
       "         18,  18,  18, 126, 136, 175,  26, 166, 255, 247, 127,   0,   0,\n",
       "          0,   0],\n",
       "       [  0,   0,   0,   0,   0,   0,   0,   0,  30,  36,  94, 154, 170,\n",
       "        253, 253, 253, 253, 253, 225, 172, 253, 242, 195,  64,   0,   0,\n",
       "          0,   0],\n",
       "       [  0,   0,   0,   0,   0,   0,   0,  49, 238, 253, 253, 253, 253,\n",
       "        253, 253, 253, 253, 251,  93,  82,  82,  56,  39,   0,   0,   0,\n",
       "          0,   0],\n",
       "       [  0,   0,   0,   0,   0,   0,   0,  18, 219, 253, 253, 253, 253,\n",
       "        253, 198, 182, 247, 241,   0,   0,   0,   0,   0,   0,   0,   0,\n",
       "          0,   0],\n",
       "       [  0,   0,   0,   0,   0,   0,   0,   0,  80, 156, 107, 253, 253,\n",
       "        205,  11,   0,  43, 154,   0,   0,   0,   0,   0,   0,   0,   0,\n",
       "          0,   0],\n",
       "       [  0,   0,   0,   0,   0,   0,   0,   0,   0,  14,   1, 154, 253,\n",
       "         90,   0,   0,   0,   0,   0,   0,   0,   0,   0,   0,   0,   0,\n",
       "          0,   0],\n",
       "       [  0,   0,   0,   0,   0,   0,   0,   0,   0,   0,   0, 139, 253,\n",
       "        190,   2,   0,   0,   0,   0,   0,   0,   0,   0,   0,   0,   0,\n",
       "          0,   0],\n",
       "       [  0,   0,   0,   0,   0,   0,   0,   0,   0,   0,   0,  11, 190,\n",
       "        253,  70,   0,   0,   0,   0,   0,   0,   0,   0,   0,   0,   0,\n",
       "          0,   0],\n",
       "       [  0,   0,   0,   0,   0,   0,   0,   0,   0,   0,   0,   0,  35,\n",
       "        241, 225, 160, 108,   1,   0,   0,   0,   0,   0,   0,   0,   0,\n",
       "          0,   0],\n",
       "       [  0,   0,   0,   0,   0,   0,   0,   0,   0,   0,   0,   0,   0,\n",
       "         81, 240, 253, 253, 119,  25,   0,   0,   0,   0,   0,   0,   0,\n",
       "          0,   0],\n",
       "       [  0,   0,   0,   0,   0,   0,   0,   0,   0,   0,   0,   0,   0,\n",
       "          0,  45, 186, 253, 253, 150,  27,   0,   0,   0,   0,   0,   0,\n",
       "          0,   0],\n",
       "       [  0,   0,   0,   0,   0,   0,   0,   0,   0,   0,   0,   0,   0,\n",
       "          0,   0,  16,  93, 252, 253, 187,   0,   0,   0,   0,   0,   0,\n",
       "          0,   0],\n",
       "       [  0,   0,   0,   0,   0,   0,   0,   0,   0,   0,   0,   0,   0,\n",
       "          0,   0,   0,   0, 249, 253, 249,  64,   0,   0,   0,   0,   0,\n",
       "          0,   0],\n",
       "       [  0,   0,   0,   0,   0,   0,   0,   0,   0,   0,   0,   0,   0,\n",
       "          0,  46, 130, 183, 253, 253, 207,   2,   0,   0,   0,   0,   0,\n",
       "          0,   0],\n",
       "       [  0,   0,   0,   0,   0,   0,   0,   0,   0,   0,   0,   0,  39,\n",
       "        148, 229, 253, 253, 253, 250, 182,   0,   0,   0,   0,   0,   0,\n",
       "          0,   0],\n",
       "       [  0,   0,   0,   0,   0,   0,   0,   0,   0,   0,  24, 114, 221,\n",
       "        253, 253, 253, 253, 201,  78,   0,   0,   0,   0,   0,   0,   0,\n",
       "          0,   0],\n",
       "       [  0,   0,   0,   0,   0,   0,   0,   0,  23,  66, 213, 253, 253,\n",
       "        253, 253, 198,  81,   2,   0,   0,   0,   0,   0,   0,   0,   0,\n",
       "          0,   0],\n",
       "       [  0,   0,   0,   0,   0,   0,  18, 171, 219, 253, 253, 253, 253,\n",
       "        195,  80,   9,   0,   0,   0,   0,   0,   0,   0,   0,   0,   0,\n",
       "          0,   0],\n",
       "       [  0,   0,   0,   0,  55, 172, 226, 253, 253, 253, 253, 244, 133,\n",
       "         11,   0,   0,   0,   0,   0,   0,   0,   0,   0,   0,   0,   0,\n",
       "          0,   0],\n",
       "       [  0,   0,   0,   0, 136, 253, 253, 253, 212, 135, 132,  16,   0,\n",
       "          0,   0,   0,   0,   0,   0,   0,   0,   0,   0,   0,   0,   0,\n",
       "          0,   0],\n",
       "       [  0,   0,   0,   0,   0,   0,   0,   0,   0,   0,   0,   0,   0,\n",
       "          0,   0,   0,   0,   0,   0,   0,   0,   0,   0,   0,   0,   0,\n",
       "          0,   0],\n",
       "       [  0,   0,   0,   0,   0,   0,   0,   0,   0,   0,   0,   0,   0,\n",
       "          0,   0,   0,   0,   0,   0,   0,   0,   0,   0,   0,   0,   0,\n",
       "          0,   0],\n",
       "       [  0,   0,   0,   0,   0,   0,   0,   0,   0,   0,   0,   0,   0,\n",
       "          0,   0,   0,   0,   0,   0,   0,   0,   0,   0,   0,   0,   0,\n",
       "          0,   0]], dtype=uint8)"
      ]
     },
     "execution_count": 4,
     "metadata": {},
     "output_type": "execute_result"
    }
   ],
   "source": [
    "x_train[0]"
   ]
  },
  {
   "cell_type": "code",
   "execution_count": 5,
   "metadata": {},
   "outputs": [],
   "source": [
    "x_train = x_train.astype('float32') / 255.\n",
    "x_test = x_test.astype('float32') / 255.\n",
    "x_train = x_train.reshape((len(x_train), np.prod(x_train.shape[1:])))\n",
    "x_test = x_test.reshape((len(x_test), np.prod(x_test.shape[1:])))"
   ]
  },
  {
   "cell_type": "code",
   "execution_count": 6,
   "metadata": {},
   "outputs": [
    {
     "name": "stdout",
     "output_type": "stream",
     "text": [
      "(60000, 784)\n"
     ]
    }
   ],
   "source": [
    "print(x_train.shape)"
   ]
  },
  {
   "cell_type": "code",
   "execution_count": 10,
   "metadata": {},
   "outputs": [
    {
     "name": "stdout",
     "output_type": "stream",
     "text": [
      "WARNING:tensorflow:From /home/dpoo@eur.ad.sag/anaconda3/lib/python3.7/site-packages/tensorflow/python/framework/op_def_library.py:263: colocate_with (from tensorflow.python.framework.ops) is deprecated and will be removed in a future version.\n",
      "Instructions for updating:\n",
      "Colocations handled automatically by placer.\n"
     ]
    }
   ],
   "source": [
    "from keras.layers import Input, Dense\n",
    "from keras.models import Model\n",
    "\n",
    "# this is the size of our encoded representations\n",
    "encoding_dim = 32  # 32 floats -> compression of factor 24.5, assuming the input is 784 floats\n",
    "\n",
    "# this is our input placeholder\n",
    "input_img = Input(shape=(784,))\n",
    "# \"encoded\" is the encoded representation of the input\n",
    "encoded = Dense(encoding_dim, activation='relu')(input_img)\n",
    "# \"decoded\" is the lossy reconstruction of the input\n",
    "decoded = Dense(784, activation='sigmoid')(encoded)\n",
    "\n",
    "# this model maps an input to its reconstruction\n",
    "autoencoder = Model(input_img, decoded)"
   ]
  },
  {
   "cell_type": "code",
   "execution_count": 11,
   "metadata": {},
   "outputs": [],
   "source": [
    "autoencoder.compile(optimizer='adadelta', loss='binary_crossentropy')"
   ]
  },
  {
   "cell_type": "code",
   "execution_count": 12,
   "metadata": {},
   "outputs": [
    {
     "name": "stdout",
     "output_type": "stream",
     "text": [
      "WARNING:tensorflow:From /home/dpoo@eur.ad.sag/anaconda3/lib/python3.7/site-packages/tensorflow/python/ops/math_ops.py:3066: to_int32 (from tensorflow.python.ops.math_ops) is deprecated and will be removed in a future version.\n",
      "Instructions for updating:\n",
      "Use tf.cast instead.\n",
      "Train on 60000 samples, validate on 10000 samples\n",
      "Epoch 1/50\n",
      "60000/60000 [==============================] - 3s 48us/step - loss: 0.3560 - val_loss: 0.2708\n",
      "Epoch 2/50\n",
      "60000/60000 [==============================] - 2s 41us/step - loss: 0.2634 - val_loss: 0.2524\n",
      "Epoch 3/50\n",
      "60000/60000 [==============================] - 3s 43us/step - loss: 0.2431 - val_loss: 0.2313\n",
      "Epoch 4/50\n",
      "60000/60000 [==============================] - 3s 42us/step - loss: 0.2238 - val_loss: 0.2134\n",
      "Epoch 5/50\n",
      "60000/60000 [==============================] - 2s 41us/step - loss: 0.2079 - val_loss: 0.1998\n",
      "Epoch 6/50\n",
      "60000/60000 [==============================] - 3s 42us/step - loss: 0.1963 - val_loss: 0.1900\n",
      "Epoch 7/50\n",
      "60000/60000 [==============================] - 3s 42us/step - loss: 0.1877 - val_loss: 0.1826\n",
      "Epoch 8/50\n",
      "60000/60000 [==============================] - 3s 43us/step - loss: 0.1807 - val_loss: 0.1762\n",
      "Epoch 9/50\n",
      "60000/60000 [==============================] - 3s 43us/step - loss: 0.1747 - val_loss: 0.1705\n",
      "Epoch 10/50\n",
      "60000/60000 [==============================] - 2s 41us/step - loss: 0.1693 - val_loss: 0.1654\n",
      "Epoch 11/50\n",
      "60000/60000 [==============================] - 2s 41us/step - loss: 0.1644 - val_loss: 0.1608\n",
      "Epoch 12/50\n",
      "60000/60000 [==============================] - 3s 43us/step - loss: 0.1599 - val_loss: 0.1565\n",
      "Epoch 13/50\n",
      "60000/60000 [==============================] - 3s 43us/step - loss: 0.1559 - val_loss: 0.1526\n",
      "Epoch 14/50\n",
      "60000/60000 [==============================] - 3s 42us/step - loss: 0.1522 - val_loss: 0.1491\n",
      "Epoch 15/50\n",
      "60000/60000 [==============================] - 3s 42us/step - loss: 0.1488 - val_loss: 0.1458\n",
      "Epoch 16/50\n",
      "60000/60000 [==============================] - 2s 41us/step - loss: 0.1458 - val_loss: 0.1429\n",
      "Epoch 17/50\n",
      "60000/60000 [==============================] - 2s 41us/step - loss: 0.1430 - val_loss: 0.1403\n",
      "Epoch 18/50\n",
      "60000/60000 [==============================] - 3s 44us/step - loss: 0.1405 - val_loss: 0.1379\n",
      "Epoch 19/50\n",
      "60000/60000 [==============================] - 3s 42us/step - loss: 0.1382 - val_loss: 0.1356\n",
      "Epoch 20/50\n",
      "60000/60000 [==============================] - 2s 41us/step - loss: 0.1360 - val_loss: 0.1335\n",
      "Epoch 21/50\n",
      "60000/60000 [==============================] - 3s 42us/step - loss: 0.1339 - val_loss: 0.1316\n",
      "Epoch 22/50\n",
      "60000/60000 [==============================] - 2s 41us/step - loss: 0.1319 - val_loss: 0.1295\n",
      "Epoch 23/50\n",
      "60000/60000 [==============================] - 3s 42us/step - loss: 0.1300 - val_loss: 0.1276\n",
      "Epoch 24/50\n",
      "60000/60000 [==============================] - 3s 42us/step - loss: 0.1282 - val_loss: 0.1259\n",
      "Epoch 25/50\n",
      "60000/60000 [==============================] - 2s 42us/step - loss: 0.1265 - val_loss: 0.1242\n",
      "Epoch 26/50\n",
      "60000/60000 [==============================] - 3s 42us/step - loss: 0.1249 - val_loss: 0.1226\n",
      "Epoch 27/50\n",
      "60000/60000 [==============================] - 2s 42us/step - loss: 0.1233 - val_loss: 0.1210\n",
      "Epoch 28/50\n",
      "60000/60000 [==============================] - 2s 41us/step - loss: 0.1219 - val_loss: 0.1196\n",
      "Epoch 29/50\n",
      "60000/60000 [==============================] - 3s 42us/step - loss: 0.1205 - val_loss: 0.1183\n",
      "Epoch 30/50\n",
      "60000/60000 [==============================] - 3s 42us/step - loss: 0.1192 - val_loss: 0.1170\n",
      "Epoch 31/50\n",
      "60000/60000 [==============================] - 3s 43us/step - loss: 0.1179 - val_loss: 0.1158\n",
      "Epoch 32/50\n",
      "60000/60000 [==============================] - 3s 44us/step - loss: 0.1168 - val_loss: 0.1147\n",
      "Epoch 33/50\n",
      "60000/60000 [==============================] - 3s 46us/step - loss: 0.1157 - val_loss: 0.1136\n",
      "Epoch 34/50\n",
      "60000/60000 [==============================] - 3s 42us/step - loss: 0.1147 - val_loss: 0.1126\n",
      "Epoch 35/50\n",
      "60000/60000 [==============================] - 3s 42us/step - loss: 0.1138 - val_loss: 0.1117\n",
      "Epoch 36/50\n",
      "60000/60000 [==============================] - 2s 41us/step - loss: 0.1129 - val_loss: 0.1108\n",
      "Epoch 37/50\n",
      "60000/60000 [==============================] - 3s 42us/step - loss: 0.1121 - val_loss: 0.1100\n",
      "Epoch 38/50\n",
      "60000/60000 [==============================] - 3s 42us/step - loss: 0.1113 - val_loss: 0.1094\n",
      "Epoch 39/50\n",
      "60000/60000 [==============================] - 3s 42us/step - loss: 0.1106 - val_loss: 0.1086\n",
      "Epoch 40/50\n",
      "60000/60000 [==============================] - 3s 42us/step - loss: 0.1099 - val_loss: 0.1080\n",
      "Epoch 41/50\n",
      "60000/60000 [==============================] - 3s 43us/step - loss: 0.1093 - val_loss: 0.1074\n",
      "Epoch 42/50\n",
      "60000/60000 [==============================] - 2s 42us/step - loss: 0.1087 - val_loss: 0.1069\n",
      "Epoch 43/50\n",
      "60000/60000 [==============================] - 3s 43us/step - loss: 0.1082 - val_loss: 0.1063\n",
      "Epoch 44/50\n",
      "60000/60000 [==============================] - 3s 42us/step - loss: 0.1077 - val_loss: 0.1059\n",
      "Epoch 45/50\n",
      "60000/60000 [==============================] - 2s 40us/step - loss: 0.1073 - val_loss: 0.1054\n",
      "Epoch 46/50\n",
      "60000/60000 [==============================] - 2s 41us/step - loss: 0.1068 - val_loss: 0.1050\n",
      "Epoch 47/50\n",
      "60000/60000 [==============================] - 2s 42us/step - loss: 0.1064 - val_loss: 0.1046\n",
      "Epoch 48/50\n",
      "60000/60000 [==============================] - 2s 41us/step - loss: 0.1060 - val_loss: 0.1043\n",
      "Epoch 49/50\n",
      "60000/60000 [==============================] - 2s 42us/step - loss: 0.1057 - val_loss: 0.1039\n",
      "Epoch 50/50\n",
      "60000/60000 [==============================] - 6s 107us/step - loss: 0.1054 - val_loss: 0.1036\n"
     ]
    },
    {
     "data": {
      "text/plain": [
       "<keras.callbacks.History at 0x7f6182115ac8>"
      ]
     },
     "execution_count": 12,
     "metadata": {},
     "output_type": "execute_result"
    }
   ],
   "source": [
    "autoencoder.fit(x_train, x_train,\n",
    "                epochs=50,\n",
    "                batch_size=256,\n",
    "                shuffle=True,\n",
    "                validation_data=(x_test, x_test))"
   ]
  },
  {
   "cell_type": "code",
   "execution_count": 13,
   "metadata": {},
   "outputs": [],
   "source": []
  },
  {
   "cell_type": "code",
   "execution_count": 14,
   "metadata": {},
   "outputs": [],
   "source": []
  },
  {
   "cell_type": "code",
   "execution_count": null,
   "metadata": {},
   "outputs": [],
   "source": []
  }
 ],
 "metadata": {
  "kernelspec": {
   "display_name": "Python 3",
   "language": "python",
   "name": "python3"
  },
  "language_info": {
   "codemirror_mode": {
    "name": "ipython",
    "version": 3
   },
   "file_extension": ".py",
   "mimetype": "text/x-python",
   "name": "python",
   "nbconvert_exporter": "python",
   "pygments_lexer": "ipython3",
   "version": "3.7.3"
  }
 },
 "nbformat": 4,
 "nbformat_minor": 2
}
