{
 "cells": [
  {
   "cell_type": "code",
   "execution_count": 61,
   "metadata": {
    "scrolled": true
   },
   "outputs": [],
   "source": [
    "#importing Keras, Library for deep learning \n",
    "import keras\n",
    "from keras.models import Sequential\n",
    "from keras.layers.core import Dense, Dropout, Activation, Flatten\n",
    "from keras.layers.convolutional import Convolution2D, MaxPooling2D\n",
    "from sklearn.cross_validation import train_test_split\n",
    "import pandas as pd\n",
    "import numpy as np\n",
    "import matplotlib.pyplot as plt"
   ]
  },
  {
   "cell_type": "code",
   "execution_count": 45,
   "metadata": {},
   "outputs": [],
   "source": [
    "#preprocessing data\n",
    "trainData = pd.read_csv('/home/deepak/Desktop/deepWork/machineLearning/dataset/mnistData/mnist_train.csv')\n",
    "testData = pd.read_csv('/home/deepak/Desktop/deepWork/machineLearning/dataset/mnistData/mnist_test.csv')"
   ]
  },
  {
   "cell_type": "code",
   "execution_count": 29,
   "metadata": {},
   "outputs": [
    {
     "name": "stdout",
     "output_type": "stream",
     "text": [
      "(60000, 785) (10000, 785)\n"
     ]
    }
   ],
   "source": [
    "print(trainData.shape, testData.shape)"
   ]
  },
  {
   "cell_type": "code",
   "execution_count": 44,
   "metadata": {},
   "outputs": [
    {
     "data": {
      "text/plain": [
       "(70000, 785)"
      ]
     },
     "execution_count": 44,
     "metadata": {},
     "output_type": "execute_result"
    }
   ],
   "source": [
    "\n",
    "data = trainData.append(testData)\n",
    "data.shape"
   ]
  },
  {
   "cell_type": "code",
   "execution_count": 79,
   "metadata": {},
   "outputs": [
    {
     "data": {
      "text/plain": [
       "array([[  0,   0,   0,   0,   0,   0,   0,   0,   0,   0,   0,   0,   0,\n",
       "          0,   0,   0,   0,   0,   0,   0,   0,   0,   0,   0,   0,   0,\n",
       "          0,   0],\n",
       "       [  0,   0,   0,   0,   0,   0,   0,   0,   0,   0,   0,   0,   0,\n",
       "          0,   0,   0,   0,   0,   0,   0,   0,   0,   0,   0,   0,   0,\n",
       "          0,   0],\n",
       "       [  0,   0,   0,   0,   0,   0,   0,   0,   0,   0,   0,   0,   0,\n",
       "          0,   0,   0,   0,   0,   0,   0,   0,   0,   0,   0,   0,   0,\n",
       "          0,   0],\n",
       "       [  0,   0,   0,   0,   0,   0,   0,   0,   0,   0,   0,   0,   0,\n",
       "          0,   0,   0,   0,   0,   0,   0,   0,   0,   0,   0,   0,   0,\n",
       "          0,   0],\n",
       "       [  0,   0,   0,   0,   0,   0,   0,   0,   0,   0,   0,   0,   0,\n",
       "          0,   0,  51, 159, 253, 159,  50,   0,   0,   0,   0,   0,   0,\n",
       "          0,   0],\n",
       "       [  0,   0,   0,   0,   0,   0,   0,   0,   0,   0,   0,   0,   0,\n",
       "          0,  48, 238, 252, 252, 252, 237,   0,   0,   0,   0,   0,   0,\n",
       "          0,   0],\n",
       "       [  0,   0,   0,   0,   0,   0,   0,   0,   0,   0,   0,   0,   0,\n",
       "         54, 227, 253, 252, 239, 233, 252,  57,   6,   0,   0,   0,   0,\n",
       "          0,   0],\n",
       "       [  0,   0,   0,   0,   0,   0,   0,   0,   0,   0,   0,  10,  60,\n",
       "        224, 252, 253, 252, 202,  84, 252, 253, 122,   0,   0,   0,   0,\n",
       "          0,   0],\n",
       "       [  0,   0,   0,   0,   0,   0,   0,   0,   0,   0,   0, 163, 252,\n",
       "        252, 252, 253, 252, 252,  96, 189, 253, 167,   0,   0,   0,   0,\n",
       "          0,   0],\n",
       "       [  0,   0,   0,   0,   0,   0,   0,   0,   0,   0,  51, 238, 253,\n",
       "        253, 190, 114, 253, 228,  47,  79, 255, 168,   0,   0,   0,   0,\n",
       "          0,   0],\n",
       "       [  0,   0,   0,   0,   0,   0,   0,   0,   0,  48, 238, 252, 252,\n",
       "        179,  12,  75, 121,  21,   0,   0, 253, 243,  50,   0,   0,   0,\n",
       "          0,   0],\n",
       "       [  0,   0,   0,   0,   0,   0,   0,   0,  38, 165, 253, 233, 208,\n",
       "         84,   0,   0,   0,   0,   0,   0, 253, 252, 165,   0,   0,   0,\n",
       "          0,   0],\n",
       "       [  0,   0,   0,   0,   0,   0,   0,   7, 178, 252, 240,  71,  19,\n",
       "         28,   0,   0,   0,   0,   0,   0, 253, 252, 195,   0,   0,   0,\n",
       "          0,   0],\n",
       "       [  0,   0,   0,   0,   0,   0,   0,  57, 252, 252,  63,   0,   0,\n",
       "          0,   0,   0,   0,   0,   0,   0, 253, 252, 195,   0,   0,   0,\n",
       "          0,   0],\n",
       "       [  0,   0,   0,   0,   0,   0,   0, 198, 253, 190,   0,   0,   0,\n",
       "          0,   0,   0,   0,   0,   0,   0, 255, 253, 196,   0,   0,   0,\n",
       "          0,   0],\n",
       "       [  0,   0,   0,   0,   0,   0,  76, 246, 252, 112,   0,   0,   0,\n",
       "          0,   0,   0,   0,   0,   0,   0, 253, 252, 148,   0,   0,   0,\n",
       "          0,   0],\n",
       "       [  0,   0,   0,   0,   0,   0,  85, 252, 230,  25,   0,   0,   0,\n",
       "          0,   0,   0,   0,   0,   7, 135, 253, 186,  12,   0,   0,   0,\n",
       "          0,   0],\n",
       "       [  0,   0,   0,   0,   0,   0,  85, 252, 223,   0,   0,   0,   0,\n",
       "          0,   0,   0,   0,   7, 131, 252, 225,  71,   0,   0,   0,   0,\n",
       "          0,   0],\n",
       "       [  0,   0,   0,   0,   0,   0,  85, 252, 145,   0,   0,   0,   0,\n",
       "          0,   0,   0,  48, 165, 252, 173,   0,   0,   0,   0,   0,   0,\n",
       "          0,   0],\n",
       "       [  0,   0,   0,   0,   0,   0,  86, 253, 225,   0,   0,   0,   0,\n",
       "          0,   0, 114, 238, 253, 162,   0,   0,   0,   0,   0,   0,   0,\n",
       "          0,   0],\n",
       "       [  0,   0,   0,   0,   0,   0,  85, 252, 249, 146,  48,  29,  85,\n",
       "        178, 225, 253, 223, 167,  56,   0,   0,   0,   0,   0,   0,   0,\n",
       "          0,   0],\n",
       "       [  0,   0,   0,   0,   0,   0,  85, 252, 252, 252, 229, 215, 252,\n",
       "        252, 252, 196, 130,   0,   0,   0,   0,   0,   0,   0,   0,   0,\n",
       "          0,   0],\n",
       "       [  0,   0,   0,   0,   0,   0,  28, 199, 252, 252, 253, 252, 252,\n",
       "        233, 145,   0,   0,   0,   0,   0,   0,   0,   0,   0,   0,   0,\n",
       "          0,   0],\n",
       "       [  0,   0,   0,   0,   0,   0,   0,  25, 128, 252, 253, 252, 141,\n",
       "         37,   0,   0,   0,   0,   0,   0,   0,   0,   0,   0,   0,   0,\n",
       "          0,   0],\n",
       "       [  0,   0,   0,   0,   0,   0,   0,   0,   0,   0,   0,   0,   0,\n",
       "          0,   0,   0,   0,   0,   0,   0,   0,   0,   0,   0,   0,   0,\n",
       "          0,   0],\n",
       "       [  0,   0,   0,   0,   0,   0,   0,   0,   0,   0,   0,   0,   0,\n",
       "          0,   0,   0,   0,   0,   0,   0,   0,   0,   0,   0,   0,   0,\n",
       "          0,   0],\n",
       "       [  0,   0,   0,   0,   0,   0,   0,   0,   0,   0,   0,   0,   0,\n",
       "          0,   0,   0,   0,   0,   0,   0,   0,   0,   0,   0,   0,   0,\n",
       "          0,   0],\n",
       "       [  0,   0,   0,   0,   0,   0,   0,   0,   0,   0,   0,   0,   0,\n",
       "          0,   0,   0,   0,   0,   0,   0,   0,   0,   0,   0,   0,   0,\n",
       "          0,   0]], dtype=uint8)"
      ]
     },
     "execution_count": 79,
     "metadata": {},
     "output_type": "execute_result"
    }
   ],
   "source": [
    "# Reshapping the data because data is in rows and we need matrix for computation\n",
    "# Convert into 28*28*1 using reshape fun (1 because it contains only blackandWhite)\n",
    "data.iloc[1, 1:].values.reshape(28, 28).astype('uint8')"
   ]
  },
  {
   "cell_type": "code",
   "execution_count": 36,
   "metadata": {},
   "outputs": [],
   "source": [
    "#Storing Pixel array in form length width and channel in df_x\n",
    "df_x = data.iloc[:,1:].values.reshape(len(data), 28, 28, 1)\n",
    "# storing labels in y\n",
    "y = data.iloc[:, 0].values"
   ]
  },
  {
   "cell_type": "code",
   "execution_count": 39,
   "metadata": {},
   "outputs": [],
   "source": [
    "# now y conatins 0...9 which may have relationship among them\n",
    "# like our model may refer 2 = 2*1\n",
    "# so we will convert it into categorical vectors\n",
    "# like 0 will be [1 0 0 ...0], 1 = [0 1 0 .... 0]\n",
    "#Converting labels to categorical features\n",
    "\n",
    "df_y = keras.utils.to_categorical(y,num_classes=10)"
   ]
  },
  {
   "cell_type": "code",
   "execution_count": 40,
   "metadata": {},
   "outputs": [
    {
     "data": {
      "text/plain": [
       "array([[0., 0., 0., ..., 0., 0., 0.],\n",
       "       [1., 0., 0., ..., 0., 0., 0.],\n",
       "       [0., 0., 0., ..., 0., 0., 0.],\n",
       "       ...,\n",
       "       [0., 0., 0., ..., 0., 0., 0.],\n",
       "       [0., 0., 0., ..., 0., 0., 0.],\n",
       "       [0., 0., 0., ..., 0., 0., 0.]], dtype=float32)"
      ]
     },
     "execution_count": 40,
     "metadata": {},
     "output_type": "execute_result"
    }
   ],
   "source": [
    "df_y"
   ]
  },
  {
   "cell_type": "code",
   "execution_count": 42,
   "metadata": {},
   "outputs": [],
   "source": [
    "df_x  =  np.array(df_x)\n",
    "df_y  =  np.array(df_y)"
   ]
  },
  {
   "cell_type": "code",
   "execution_count": 43,
   "metadata": {},
   "outputs": [
    {
     "data": {
      "text/plain": [
       "(70000, 28, 28, 1)"
      ]
     },
     "execution_count": 43,
     "metadata": {},
     "output_type": "execute_result"
    }
   ],
   "source": [
    "df_x.shape"
   ]
  },
  {
   "cell_type": "code",
   "execution_count": 46,
   "metadata": {},
   "outputs": [],
   "source": [
    "# test train split\n",
    "x_train, x_test, y_train, y_test = train_test_split(df_x,df_y,test_size=0.2,random_state=4)\n",
    "# done with preprocessing"
   ]
  },
  {
   "cell_type": "code",
   "execution_count": 49,
   "metadata": {},
   "outputs": [],
   "source": [
    "#CNN model\n",
    "model = Sequential()\n",
    "# 32 filter 3*3 size\n",
    "model.add(Convolution2D(32,3,data_format='channels_last',activation='relu',input_shape=(28,28,1)))\n",
    "# reduce number of parameters by getting imporatant params\n",
    "model.add(MaxPooling2D(pool_size=(2,2)))\n",
    "model.add(Flatten()) # converts all matrix to single vector\n",
    "model.add(Dense(100))    #100 NN nodes \n",
    "model.add(Dropout(0.5))\n",
    "model.add(Dense(10))     #output on NN will have 10 node as our output will be categorical nodes\n",
    "model.add(Activation('softmax'))\n",
    "model.compile(loss='categorical_crossentropy', optimizer = 'adadelta', metrics = ['accuracy']) # chose loss fun"
   ]
  },
  {
   "cell_type": "code",
   "execution_count": 50,
   "metadata": {},
   "outputs": [
    {
     "name": "stdout",
     "output_type": "stream",
     "text": [
      "_________________________________________________________________\n",
      "Layer (type)                 Output Shape              Param #   \n",
      "=================================================================\n",
      "conv2d_3 (Conv2D)            (None, 26, 26, 32)        320       \n",
      "_________________________________________________________________\n",
      "max_pooling2d_3 (MaxPooling2 (None, 13, 13, 32)        0         \n",
      "_________________________________________________________________\n",
      "flatten_3 (Flatten)          (None, 5408)              0         \n",
      "_________________________________________________________________\n",
      "dense_5 (Dense)              (None, 100)               540900    \n",
      "_________________________________________________________________\n",
      "dropout_3 (Dropout)          (None, 100)               0         \n",
      "_________________________________________________________________\n",
      "dense_6 (Dense)              (None, 10)                1010      \n",
      "_________________________________________________________________\n",
      "activation_3 (Activation)    (None, 10)                0         \n",
      "=================================================================\n",
      "Total params: 542,230\n",
      "Trainable params: 542,230\n",
      "Non-trainable params: 0\n",
      "_________________________________________________________________\n"
     ]
    }
   ],
   "source": [
    "model.summary()"
   ]
  },
  {
   "cell_type": "code",
   "execution_count": 55,
   "metadata": {},
   "outputs": [
    {
     "name": "stdout",
     "output_type": "stream",
     "text": [
      "Train on 56000 samples, validate on 14000 samples\n",
      "Epoch 1/30\n",
      "56000/56000 [==============================] - 44s 781us/step - loss: 0.2824 - acc: 0.9721 - val_loss: 0.2220 - val_acc: 0.9769\n",
      "Epoch 2/30\n",
      "56000/56000 [==============================] - 43s 771us/step - loss: 0.2180 - acc: 0.9723 - val_loss: 0.1564 - val_acc: 0.9731\n",
      "Epoch 3/30\n",
      "56000/56000 [==============================] - 43s 775us/step - loss: 0.1364 - acc: 0.9689 - val_loss: 0.1062 - val_acc: 0.9737\n",
      "Epoch 4/30\n",
      "56000/56000 [==============================] - 45s 810us/step - loss: 0.0983 - acc: 0.9746 - val_loss: 0.0856 - val_acc: 0.9788\n",
      "Epoch 5/30\n",
      "56000/56000 [==============================] - 42s 742us/step - loss: 0.0836 - acc: 0.9775 - val_loss: 0.0910 - val_acc: 0.9757\n",
      "Epoch 6/30\n",
      "56000/56000 [==============================] - 40s 710us/step - loss: 0.0768 - acc: 0.9789 - val_loss: 0.0827 - val_acc: 0.9789\n",
      "Epoch 7/30\n",
      "56000/56000 [==============================] - 38s 685us/step - loss: 0.0711 - acc: 0.9806 - val_loss: 0.0754 - val_acc: 0.9801\n",
      "Epoch 8/30\n",
      "56000/56000 [==============================] - 39s 689us/step - loss: 0.0618 - acc: 0.9823 - val_loss: 0.0867 - val_acc: 0.9805\n",
      "Epoch 9/30\n",
      "56000/56000 [==============================] - 39s 690us/step - loss: 0.0612 - acc: 0.9830 - val_loss: 0.0827 - val_acc: 0.9796\n",
      "Epoch 10/30\n",
      "56000/56000 [==============================] - 39s 698us/step - loss: 0.0586 - acc: 0.9836 - val_loss: 0.0853 - val_acc: 0.9793\n",
      "Epoch 11/30\n",
      "56000/56000 [==============================] - 39s 693us/step - loss: 0.0558 - acc: 0.9842 - val_loss: 0.0820 - val_acc: 0.9803\n",
      "Epoch 12/30\n",
      "56000/56000 [==============================] - 39s 692us/step - loss: 0.0519 - acc: 0.9855 - val_loss: 0.0884 - val_acc: 0.9785\n",
      "Epoch 13/30\n",
      "56000/56000 [==============================] - 39s 696us/step - loss: 0.0482 - acc: 0.9862 - val_loss: 0.0859 - val_acc: 0.9789\n",
      "Epoch 14/30\n",
      "56000/56000 [==============================] - 39s 698us/step - loss: 0.0486 - acc: 0.9859 - val_loss: 0.0926 - val_acc: 0.9813\n",
      "Epoch 15/30\n",
      "56000/56000 [==============================] - 39s 699us/step - loss: 0.0442 - acc: 0.9875 - val_loss: 0.0930 - val_acc: 0.9796\n",
      "Epoch 16/30\n",
      "56000/56000 [==============================] - 39s 700us/step - loss: 0.0445 - acc: 0.9879 - val_loss: 0.0842 - val_acc: 0.9785\n",
      "Epoch 17/30\n",
      "56000/56000 [==============================] - 39s 703us/step - loss: 0.0416 - acc: 0.9884 - val_loss: 0.0886 - val_acc: 0.9826\n",
      "Epoch 18/30\n",
      "56000/56000 [==============================] - 40s 708us/step - loss: 0.0397 - acc: 0.9883 - val_loss: 0.1017 - val_acc: 0.9779\n",
      "Epoch 19/30\n",
      "56000/56000 [==============================] - 40s 706us/step - loss: 0.0385 - acc: 0.9890 - val_loss: 0.0895 - val_acc: 0.9815\n",
      "Epoch 20/30\n",
      "56000/56000 [==============================] - 40s 706us/step - loss: 0.0371 - acc: 0.9895 - val_loss: 0.1036 - val_acc: 0.9803\n",
      "Epoch 21/30\n",
      "56000/56000 [==============================] - 40s 709us/step - loss: 0.0357 - acc: 0.9903 - val_loss: 0.0926 - val_acc: 0.9803\n",
      "Epoch 22/30\n",
      "56000/56000 [==============================] - 40s 714us/step - loss: 0.0354 - acc: 0.9902 - val_loss: 0.0920 - val_acc: 0.9809\n",
      "Epoch 23/30\n",
      "56000/56000 [==============================] - 40s 712us/step - loss: 0.0359 - acc: 0.9896 - val_loss: 0.0936 - val_acc: 0.9811\n",
      "Epoch 24/30\n",
      "56000/56000 [==============================] - 40s 717us/step - loss: 0.0323 - acc: 0.9911 - val_loss: 0.0960 - val_acc: 0.9821\n",
      "Epoch 25/30\n",
      "56000/56000 [==============================] - 40s 716us/step - loss: 0.0330 - acc: 0.9904 - val_loss: 0.0931 - val_acc: 0.9809\n",
      "Epoch 26/30\n",
      "56000/56000 [==============================] - 40s 719us/step - loss: 0.0314 - acc: 0.9908 - val_loss: 0.1221 - val_acc: 0.9786\n",
      "Epoch 27/30\n",
      "56000/56000 [==============================] - 38s 677us/step - loss: 0.0298 - acc: 0.9915 - val_loss: 0.1011 - val_acc: 0.9807\n",
      "Epoch 28/30\n",
      "56000/56000 [==============================] - 38s 676us/step - loss: 0.0280 - acc: 0.9919 - val_loss: 0.1103 - val_acc: 0.9813\n",
      "Epoch 29/30\n",
      "56000/56000 [==============================] - 38s 677us/step - loss: 0.0294 - acc: 0.9913 - val_loss: 0.1081 - val_acc: 0.9820\n",
      "Epoch 30/30\n",
      "56000/56000 [==============================] - 38s 677us/step - loss: 0.0255 - acc: 0.9928 - val_loss: 0.1138 - val_acc: 0.9806\n"
     ]
    },
    {
     "data": {
      "text/plain": [
       "<keras.callbacks.History at 0x7f24e7048748>"
      ]
     },
     "execution_count": 55,
     "metadata": {},
     "output_type": "execute_result"
    }
   ],
   "source": [
    "#fitting it with just 100 images for testing \n",
    "model.fit(x_train, y_train, epochs=30, validation_data = (x_test, y_test) )"
   ]
  },
  {
   "cell_type": "code",
   "execution_count": 56,
   "metadata": {},
   "outputs": [
    {
     "name": "stdout",
     "output_type": "stream",
     "text": [
      "14000/14000 [==============================] - 3s 213us/step\n"
     ]
    },
    {
     "data": {
      "text/plain": [
       "[0.11383333774054245, 0.9805714285714285]"
      ]
     },
     "execution_count": 56,
     "metadata": {},
     "output_type": "execute_result"
    }
   ],
   "source": [
    "model.evaluate(x_test,y_test)"
   ]
  },
  {
   "cell_type": "code",
   "execution_count": 101,
   "metadata": {},
   "outputs": [
    {
     "data": {
      "text/plain": [
       "(60000, 784)"
      ]
     },
     "execution_count": 101,
     "metadata": {},
     "output_type": "execute_result"
    }
   ],
   "source": [
    "img = trainData.iloc[:, 1:]\n",
    "img.shape"
   ]
  },
  {
   "cell_type": "code",
   "execution_count": 206,
   "metadata": {},
   "outputs": [
    {
     "data": {
      "image/png": "[encoded data removed]",
      "text/plain": [
       "<matplotlib.figure.Figure at 0x7f249d5e0828>"
      ]
     },
     "metadata": {},
     "output_type": "display_data"
    }
   ],
   "source": [
    "index = 4\n",
    "testImg = trainData.iloc[index:(index+1), 1:]\n",
    "img = testImg.values.reshape(1, 28, 28)\n",
    "plt.imshow(img[0])\n",
    "plt.show()\n",
    "img = img.reshape(1, 28, 28, 1)"
   ]
  },
  {
   "cell_type": "code",
   "execution_count": 207,
   "metadata": {},
   "outputs": [],
   "source": [
    "predicted = model.predict(img, verbose=0)"
   ]
  },
  {
   "cell_type": "code",
   "execution_count": 208,
   "metadata": {},
   "outputs": [
    {
     "data": {
      "text/plain": [
       "9"
      ]
     },
     "execution_count": 208,
     "metadata": {},
     "output_type": "execute_result"
    }
   ],
   "source": [
    "np.argmax(predicted, axis=None, out=None)"
   ]
  },
  {
   "cell_type": "code",
   "execution_count": null,
   "metadata": {},
   "outputs": [],
   "source": []
  }
 ],
 "metadata": {
  "kernelspec": {
   "display_name": "Python 3",
   "language": "python",
   "name": "python3"
  },
  "language_info": {
   "codemirror_mode": {
    "name": "ipython",
    "version": 3
   },
   "file_extension": ".py",
   "mimetype": "text/x-python",
   "name": "python",
   "nbconvert_exporter": "python",
   "pygments_lexer": "ipython3",
   "version": "3.6.4"
  }
 },
 "nbformat": 4,
 "nbformat_minor": 2
}
