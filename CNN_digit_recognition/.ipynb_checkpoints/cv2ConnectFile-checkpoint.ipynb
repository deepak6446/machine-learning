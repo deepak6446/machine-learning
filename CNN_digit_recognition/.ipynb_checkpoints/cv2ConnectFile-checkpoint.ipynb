{
 "cells": [
  {
   "cell_type": "code",
   "execution_count": 1,
   "metadata": {},
   "outputs": [],
   "source": [
    "\"\"\"\n",
    "display the contents of the webcam using OpenCV \n",
    "via the new Pythonic cv2 interface.  Press <esc> to quit.\n",
    "\"\"\"\n",
    "import cv2"
   ]
  },
  {
   "cell_type": "code",
   "execution_count": 8,
   "metadata": {},
   "outputs": [],
   "source": [
    "\"\"\"\n",
    "def show_webcam(mirror=False):\n",
    "    cam = cv2.VideoCapture(0)\n",
    "    while True:\n",
    "        ret_val, img = cam.read()\n",
    "        cv2.imshow('my webcam', img)\n",
    "        if cv2.waitKey(1) == 27: \n",
    "            break  # esc to quit\n",
    "    cv2.destroyAllWindows()\n",
    "\"\"\"\n",
    "# import only system from os \n",
    "frame_count=0\n",
    "while True:\n",
    "    frame = vs.read()\n",
    "    cv2.imshow('Video', frame)\n",
    "    dim = (28, 28)\n",
    "    frame = cv2.resize(frame, dim, interpolation =cv2.INTER_AREA)\n",
    "    frame = cv2.cvtColor( frame, cv2.COLOR_BGR2GRAY )\n",
    "    frame_count+=1\n",
    "    \n",
    "    # Only run every 15 framaes\n",
    "    if frame_count%15==0:\n",
    "        frame_count = 0\n",
    "        #_ = system('clear') \n",
    "        print('--------frame before reshape', frame.shape)\n",
    "        frame = reshape(frame)\n",
    "        print('--------frame before reshape', frame.shape)\n",
    "\n",
    "        # Save the image as the fist layer of inception is a DecodeJpeg\n",
    "        cv2.imwrite(\"current_frame.jpg\",frame)\n",
    "        predicted = model.predict(frame)\n",
    "        predicted = np.argmax(predicted, axis=None, out=None)\n",
    "        print('predicted digit:', predicted)   "
   ]
  },
  {
   "cell_type": "code",
   "execution_count": 9,
   "metadata": {},
   "outputs": [],
   "source": [
    "show_webcam()"
   ]
  },
  {
   "cell_type": "code",
   "execution_count": null,
   "metadata": {},
   "outputs": [],
   "source": []
  }
 ],
 "metadata": {
  "kernelspec": {
   "display_name": "Python 3",
   "language": "python",
   "name": "python3"
  },
  "language_info": {
   "codemirror_mode": {
    "name": "ipython",
    "version": 3
   },
   "file_extension": ".py",
   "mimetype": "text/x-python",
   "name": "python",
   "nbconvert_exporter": "python",
   "pygments_lexer": "ipython3",
   "version": "3.6.4"
  }
 },
 "nbformat": 4,
 "nbformat_minor": 2
}
