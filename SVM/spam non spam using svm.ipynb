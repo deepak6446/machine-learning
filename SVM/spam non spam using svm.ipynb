{
 "cells": [
  {
   "cell_type": "code",
   "execution_count": 1,
   "metadata": {},
   "outputs": [],
   "source": [
    "import os \n",
    "# This collections implements specialized container datatypes.\n",
    "# A counter tool is provided to support convenient and rapid tallies.\n",
    "from collections import Counter\n",
    "import numpy as np\n",
    "from sklearn.datasets import make_circles\n",
    "from matplotlib import pyplot as plt\n",
    "from mpl_toolkits.mplot3d import Axes3D\n",
    "np.set_printoptions(threshold=np.nan)\n",
    "from sklearn import svm\n",
    "from sklearn.metrics import accuracy_score"
   ]
  },
  {
   "cell_type": "code",
   "execution_count": 2,
   "metadata": {},
   "outputs": [],
   "source": [
    "TRAIN_DIR = \"./train-mails\"\n",
    "TEST_DIR = \"./test-mails\""
   ]
  },
  {
   "cell_type": "code",
   "execution_count": 3,
   "metadata": {},
   "outputs": [],
   "source": [
    "def make_Dictionary(root_dir):\n",
    "    all_words = []\n",
    "    emails = [os.path.join(root_dir,f) for f in os.listdir(root_dir)]\n",
    "    for mail in emails:\n",
    "        with open(mail) as m:\n",
    "            for line in m:\n",
    "                words = line.split()\n",
    "                all_words += words\n",
    "    dictionary = Counter(all_words)       # it will create a dictionary of words: number of times it appered\n",
    "    list_to_remove = list(dictionary)     # gets only keys in list\n",
    "    for item in list_to_remove:\n",
    "       if item.isalpha() == False:        # remove if numerical. \n",
    "            del dictionary[item]\n",
    "       elif len(item) == 1:\n",
    "            del dictionary[item]\n",
    "            \n",
    "    # consider only most 3000 common words in dictionary.\n",
    "    dictionary = dictionary.most_common(3000)\n",
    "    \n",
    "    return dictionary"
   ]
  },
  {
   "cell_type": "code",
   "execution_count": null,
   "metadata": {},
   "outputs": [],
   "source": []
  },
  {
   "cell_type": "code",
   "execution_count": 4,
   "metadata": {},
   "outputs": [],
   "source": [
    "# features_matrix is a matrix with word replaced with nuber of times it appered in string\n",
    "# eg: str0 = \"i am good i\"\n",
    "# suppose am is stop word\n",
    "# features_matrix = [[2, 0, 1, 2], [0, 0, 0, 0], ....]\n",
    "def extract_features(mail_dir):\n",
    "  files = [os.path.join(mail_dir,fi) for fi in os.listdir(mail_dir)]\n",
    "  features_matrix = np.zeros((len(files),3000))\n",
    "  train_labels = np.zeros(len(files))\n",
    "  count = 0;\n",
    "  docID = 0;\n",
    "  for fil in files:\n",
    "    with open(fil) as fi:\n",
    "      for i,line in enumerate(fi):         # convert file words in enumerate\n",
    "        if i == 2:                         # text starts from line no 2\n",
    "          words = line.split()             # split lines\n",
    "          for word in words:               # for each word\n",
    "            wordID = 0\n",
    "            for i,d in enumerate(dictionary):\n",
    "              if d[0] == word:\n",
    "                wordID = i                 # index of word in dictionary\n",
    "                features_matrix[docID,wordID] = words.count(word)           # array of index where the word appered in line\n",
    "      train_labels[docID] = 0;\n",
    "      filepathTokens = fil.split('/')\n",
    "      lastToken = filepathTokens[len(filepathTokens) - 1]\n",
    "      if lastToken.startswith(\"spmsg\"):\n",
    "          train_labels[docID] = 1;\n",
    "          count = count + 1\n",
    "      docID = docID + 1\n",
    "  return features_matrix, train_labels"
   ]
  },
  {
   "cell_type": "code",
   "execution_count": null,
   "metadata": {},
   "outputs": [],
   "source": []
  },
  {
   "cell_type": "code",
   "execution_count": 5,
   "metadata": {},
   "outputs": [
    {
     "name": "stdout",
     "output_type": "stream",
     "text": [
      "non spam file\n",
      "Subject: kant innateness\n",
      "\n",
      "\n",
      "\n",
      "reference innateness kant easy , here one relevant current controversy regard linguistic \" realism \" v . \" conceptualism . \" middle course propose bewtween two above mention , namely , category neither self-thought first principle apriorus our knowledege nor derive experience , sujective disposition , implant us first momement , order our creator employment complete harmony law nature accordance experience proceeds - - kind preformation-system pure reason . . . decisive ojection . . . necessity category . . . sacrifice . ( b167-168 . _ critique pure reason _ tran . kemp smith . ) noam chomsky observe \" rationalist \" \" empiricist \" theory language incorporate \" innate disposition . \" ( _ reflection language _ . pantheon . 1975 . p . 215 ) whether logical modality enter linguistic picture uncertain , one imagine formulation minimality connection economy derivation necessary sense , choose possible example purpose illustration . , modality exclude \" psychologism \" linguistics conceptualism alum chomsky . one consequence argument against extend linguistic \" psychologism \" logic bar fregean reason sometime cite linguist ( e . g . katz postal _ linguistic philosophy _ . 14 , 1991 . p . 520 . importance kant history philosophy linguistics innateness , rather recognize concept rules . ( ibid . a106 ) . rule allow identification form \" judgment . \" within framework rule ( \" principle \" ) parameter , kant 's view concept special significance , eventually point toward possible resolution question place linguistics within science . steven bayne ( grad student ) uconn , linguistic stevenbayne @ delphus . com\n",
      "\n"
     ]
    }
   ],
   "source": [
    "with open(\"./train-mails/6-73msg1.txt\") as m:\n",
    "            print(\"non spam file\")\n",
    "            for line in m:\n",
    "                print(line)"
   ]
  },
  {
   "cell_type": "code",
   "execution_count": 6,
   "metadata": {},
   "outputs": [
    {
     "name": "stdout",
     "output_type": "stream",
     "text": [
      "spam file\n",
      "Subject: luck ! ! ! !\n",
      "\n",
      "\n",
      "\n",
      "- - adult - - most fun sit ! ! click here\n",
      "\n"
     ]
    }
   ],
   "source": [
    "with open(\"./train-mails/spmsgb154.txt\") as m:\n",
    "            print(\"spam file\")\n",
    "            for line in m:\n",
    "                print(line)"
   ]
  },
  {
   "cell_type": "code",
   "execution_count": 7,
   "metadata": {},
   "outputs": [],
   "source": [
    "dictionary = make_Dictionary(TRAIN_DIR)"
   ]
  },
  {
   "cell_type": "code",
   "execution_count": 8,
   "metadata": {},
   "outputs": [],
   "source": [
    "features_matrix, labels = extract_features(TRAIN_DIR)\n",
    "test_feature_matrix, test_labels = extract_features(TEST_DIR)"
   ]
  },
  {
   "cell_type": "code",
   "execution_count": null,
   "metadata": {},
   "outputs": [],
   "source": []
  },
  {
   "cell_type": "code",
   "execution_count": 9,
   "metadata": {},
   "outputs": [],
   "source": [
    "# This is very basic implementation. It assumes default values of tuning parameters (kernel = linear, C = 1 and gamma = 1)\n",
    "model = svm.SVC()\n",
    "model.fit(features_matrix, labels)\n",
    "predicted_labels = model.predict(test_feature_matrix)"
   ]
  },
  {
   "cell_type": "code",
   "execution_count": 10,
   "metadata": {},
   "outputs": [
    {
     "name": "stdout",
     "output_type": "stream",
     "text": [
      "accuracy:  0.8153846153846154\n"
     ]
    }
   ],
   "source": [
    "print(\"accuracy: \", accuracy_score(test_labels, predicted_labels))"
   ]
  },
  {
   "cell_type": "code",
   "execution_count": null,
   "metadata": {},
   "outputs": [],
   "source": []
  },
  {
   "cell_type": "code",
   "execution_count": 11,
   "metadata": {},
   "outputs": [],
   "source": [
    "# to improve accuraccy we will change svm parameters\n",
    "# default kernal is rbf:\n",
    "# c(regularization parameter)\n",
    "model = svm.SVC(kernel=\"rbf\",C=100, gamma=0.001)\n",
    "model.fit(features_matrix, labels)\n",
    "predicted_labels = model.predict(test_feature_matrix)"
   ]
  },
  {
   "cell_type": "code",
   "execution_count": 12,
   "metadata": {},
   "outputs": [
    {
     "name": "stdout",
     "output_type": "stream",
     "text": [
      "accuracy:  0.9730769230769231\n"
     ]
    }
   ],
   "source": [
    "print(\"accuracy: \", accuracy_score(test_labels, predicted_labels))"
   ]
  },
  {
   "cell_type": "code",
   "execution_count": 13,
   "metadata": {},
   "outputs": [],
   "source": [
    "# 97% accurracy is quite good"
   ]
  }
 ],
 "metadata": {
  "kernelspec": {
   "display_name": "Python 3",
   "language": "python",
   "name": "python3"
  },
  "language_info": {
   "codemirror_mode": {
    "name": "ipython",
    "version": 3
   },
   "file_extension": ".py",
   "mimetype": "text/x-python",
   "name": "python",
   "nbconvert_exporter": "python",
   "pygments_lexer": "ipython3",
   "version": "3.6.5"
  }
 },
 "nbformat": 4,
 "nbformat_minor": 2
}
